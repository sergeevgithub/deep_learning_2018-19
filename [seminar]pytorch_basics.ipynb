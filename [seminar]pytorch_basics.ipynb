{
  "nbformat": 4,
  "nbformat_minor": 0,
  "metadata": {
    "colab": {
      "name": "[seminar]pytorch_basics.ipynb",
      "provenance": [],
      "collapsed_sections": [],
      "include_colab_link": true
    },
    "kernelspec": {
      "name": "python3",
      "display_name": "Python 3"
    },
    "accelerator": "GPU"
  },
  "cells": [
    {
      "cell_type": "markdown",
      "metadata": {
        "id": "view-in-github",
        "colab_type": "text"
      },
      "source": [
        "<a href=\"https://colab.research.google.com/github/sergeevgithub/deep_learning_2018-19/blob/master/%5Bseminar%5Dpytorch_basics.ipynb\" target=\"_parent\"><img src=\"https://colab.research.google.com/assets/colab-badge.svg\" alt=\"Open In Colab\"/></a>"
      ]
    },
    {
      "cell_type": "markdown",
      "metadata": {
        "id": "5RETQ6CxbdOz",
        "colab_type": "text"
      },
      "source": [
        "<p style=\"align: center;\"><img align=center src=\"https://s8.hostingkartinok.com/uploads/images/2018/08/308b49fcfbc619d629fe4604bceb67ac.jpg\" width=500 height=450/></p>\n",
        "\n",
        "<h3 style=\"text-align: center;\"><b>\"Глубокое обучение\". Продвинутый поток</b></h3>\n",
        "\n",
        "<h2 style=\"text-align: center;\"><b>Семинар 6. Основы библиотеки Pythorch </b></h2>\n"
      ]
    },
    {
      "cell_type": "markdown",
      "metadata": {
        "colab_type": "text",
        "id": "vcnGdgw_YJ8u"
      },
      "source": [
        "<h2 style=\"text-align: center;\"><b>PyTorch basics: syntax, torch.cuda and torch.autograd</b></h2>"
      ]
    },
    {
      "cell_type": "markdown",
      "metadata": {
        "colab_type": "text",
        "id": "-Iv1eX2mYJ8v"
      },
      "source": [
        "<p style=\"align: center;\"><img src=\"https://upload.wikimedia.org/wikipedia/commons/9/96/Pytorch_logo.png\" width=400 height=100></p>"
      ]
    },
    {
      "cell_type": "markdown",
      "metadata": {
        "colab_type": "text",
        "id": "JwiKExhuYJ8w"
      },
      "source": [
        "Hi! In this notebook we will cover the basics of the **PyTorch deep learning framework**. "
      ]
    },
    {
      "cell_type": "markdown",
      "metadata": {
        "id": "70_JTnaRbdPD",
        "colab_type": "text"
      },
      "source": [
        "<h3 style=\"text-align: center;\"><b>Intro</b></h3>"
      ]
    },
    {
      "cell_type": "markdown",
      "metadata": {
        "id": "8UBMClK6bdPE",
        "colab_type": "text"
      },
      "source": [
        "**Frameworks** are the specific code libraries with their own internal structure and pipelines."
      ]
    },
    {
      "cell_type": "markdown",
      "metadata": {
        "colab_type": "text",
        "id": "tQoex-sZYJ8x"
      },
      "source": [
        "There are many deep learning frameworks nowadays (02/2019). The difference between them is in the internal computation principles. For example, in **[Caffe](http://caffe.berkeleyvision.org/)** and **[Caffe2](https://caffe2.ai/)** you write the code using some \"ready blocks\" (just like the $LEGO^{TM}$ :). In **[TensorFlow](https://www.tensorflow.org/)** and **[Theano](http://deeplearning.net/software/theano/)** you declare the computation graph at first, then compile it and use it for inference/training (`tf.session()`). By the way, now TensorFlow (since v1.10) has the [Eager Execution](https://www.tensorflow.org/guide/eager), which can be handy for fast prototyping and debugging. **[Keras](https://keras.io/)** is a very popular and useful DL framework that allows to create networks fast and has many demanding features. "
      ]
    },
    {
      "cell_type": "markdown",
      "metadata": {
        "colab_type": "text",
        "id": "97MX7yrBYJ8y"
      },
      "source": [
        "<p style=\"align: center;\"><img src=\"https://habrastorage.org/web/e3e/c3e/b78/e3ec3eb78d714a7993a6b922911c0866.png\" width=500 height=500></p>  \n",
        "<p style=\"text-align: center;\"><i>Image credit: https://habr.com/post/334380/</i><p>"
      ]
    },
    {
      "cell_type": "markdown",
      "metadata": {
        "id": "h5yBQj7EbdPJ",
        "colab_type": "text"
      },
      "source": [
        "We will use PyTorch bacause it's been actively developed and supported by the community and [Facebook AI Research](https://research.fb.com/category/facebook-ai-research/)."
      ]
    },
    {
      "cell_type": "markdown",
      "metadata": {
        "colab_type": "text",
        "id": "J74O-qdJYJ80"
      },
      "source": [
        "<h3 style=\"text-align: center;\"><b>Installation</b></h3>"
      ]
    },
    {
      "cell_type": "markdown",
      "metadata": {
        "colab_type": "text",
        "id": "WpXxZ4-4YJ83"
      },
      "source": [
        "The detailed instruction on how to install PyTorch you can find on the [official PyTorch website](https://pytorch.org/)."
      ]
    },
    {
      "cell_type": "markdown",
      "metadata": {
        "colab_type": "text",
        "id": "uxdjjnqIYJ86"
      },
      "source": [
        "<h3 style=\"text-align: center;\">Syntax<b></b></h3>"
      ]
    },
    {
      "cell_type": "code",
      "metadata": {
        "colab_type": "code",
        "id": "RtyozNmmYJ89",
        "colab": {}
      },
      "source": [
        "import torch"
      ],
      "execution_count": 0,
      "outputs": []
    },
    {
      "cell_type": "markdown",
      "metadata": {
        "colab_type": "text",
        "id": "zjfLQzEPYJ9B"
      },
      "source": [
        "Some facts about PyTorch:  \n",
        "- dynamic computation graph\n",
        "- handy `torch.nn` and `torchvision` modules for fast neural network prototyping\n",
        "- even faster than TensorFlow on some tasks\n",
        "- allows to use GPU easily"
      ]
    },
    {
      "cell_type": "markdown",
      "metadata": {
        "colab_type": "text",
        "id": "0AL-T8TMYJ9D"
      },
      "source": [
        "If PyTorch was a formula, it would be:  \n",
        "\n",
        "$$PyTorch = NumPy + CUDA + Autograd$$"
      ]
    },
    {
      "cell_type": "markdown",
      "metadata": {
        "colab_type": "text",
        "id": "X_O59VXWYJ9E"
      },
      "source": [
        "(CUDA - [wiki](https://en.wikipedia.org/wiki/CUDA))"
      ]
    },
    {
      "cell_type": "markdown",
      "metadata": {
        "colab_type": "text",
        "id": "lWIeTFxSYJ9F"
      },
      "source": [
        "Let's see how we can use PyTorch to operate with vectors and tensors.  \n",
        "\n",
        "Recall that **a tensor** is a multidimensional vector, e.g. :  \n",
        "\n",
        "`x = np.array([1,2,3])` -- a vector = a tensor with 1 dimension (to be more precise: `(1,)`)  \n",
        "`y = np.array([[1, 2, 3], [4, 5, 6]])` -- a matrix = a tensor with 2 dimensions (`(2, 3)` in this case)  \n",
        "`z = np.array([[[1, 2, 3], [4, 5, 6], [7, 8, 9]],  \n",
        "               [[1, 2, 3], [4, 5, 6], [7, 8, 9]],  \n",
        "               [[1, 2, 3], [4, 5, 6], [7, 8, 9]]])` -- \"a cube\" (3, 3, 3) = a tensor with 3 dimensions (`(3, 3, 3)` in this case)"
      ]
    },
    {
      "cell_type": "markdown",
      "metadata": {
        "colab_type": "text",
        "id": "hS97vo7mYJ9G"
      },
      "source": [
        "One real example of 3-dimensional tensor is **an image**, it has 3 dimensions: `height`, `width` and the `channel depth` (= 3 for color images, 1 for a greyscale). You can think of it as of parallelepiped consisting of the real numbers."
      ]
    },
    {
      "cell_type": "markdown",
      "metadata": {
        "colab_type": "text",
        "id": "tEeGGtRiYJ9H"
      },
      "source": [
        "In PyTorch we will use `torch.Tensor` (`FloatTensor`, `IntTensor`, `ByteTensor`) for all the computations."
      ]
    },
    {
      "cell_type": "markdown",
      "metadata": {
        "colab_type": "text",
        "id": "byu7xZtLYJ9J"
      },
      "source": [
        "All tensor types:"
      ]
    },
    {
      "cell_type": "code",
      "metadata": {
        "colab_type": "code",
        "id": "zilSktmEGgAv",
        "colab": {}
      },
      "source": [
        "torch.HalfTensor      # 16 бит, floating point\n",
        "torch.FloatTensor     # 32 бита, floating point\n",
        "torch.DoubleTensor    # 64 бита, floating point\n",
        "\n",
        "torch.ShortTensor     # 16 бит, integer, signed\n",
        "torch.IntTensor       # 32 бита, integer, signed\n",
        "torch.LongTensor      # 64 бита, integer, signed\n",
        "\n",
        "torch.CharTensor      # 8 бит, integer, signed\n",
        "torch.ByteTensor      # 8 бит, integer, unsigned"
      ],
      "execution_count": 0,
      "outputs": []
    },
    {
      "cell_type": "markdown",
      "metadata": {
        "colab_type": "text",
        "id": "NWk2gidNYJ9P"
      },
      "source": [
        "We will use only `torch.FloatTensor()` and `torch.IntTensor()`. "
      ]
    },
    {
      "cell_type": "markdown",
      "metadata": {
        "colab_type": "text",
        "id": "CllyEKvVYJ9Q"
      },
      "source": [
        "Let's begin to do something!"
      ]
    },
    {
      "cell_type": "markdown",
      "metadata": {
        "colab_type": "text",
        "id": "R4HEetsxYJ9Q"
      },
      "source": [
        "* Creating the tensor:"
      ]
    },
    {
      "cell_type": "code",
      "metadata": {
        "colab_type": "code",
        "id": "MVawE9lRYJ9R",
        "outputId": "50b62608-e9d8-4f14-a373-7c35ba570e53",
        "colab": {
          "base_uri": "https://localhost:8080/",
          "height": 34
        }
      },
      "source": [
        "a = torch.FloatTensor([1, 2])\n",
        "a"
      ],
      "execution_count": 11,
      "outputs": [
        {
          "output_type": "execute_result",
          "data": {
            "text/plain": [
              "tensor([1., 2.])"
            ]
          },
          "metadata": {
            "tags": []
          },
          "execution_count": 11
        }
      ]
    },
    {
      "cell_type": "code",
      "metadata": {
        "colab_type": "code",
        "id": "ARjaPS_GYJ9W",
        "outputId": "0ee5e4a9-1d73-4b9d-fc78-f38540d3f62a",
        "colab": {
          "base_uri": "https://localhost:8080/",
          "height": 34
        }
      },
      "source": [
        "a.shape"
      ],
      "execution_count": 3,
      "outputs": [
        {
          "output_type": "execute_result",
          "data": {
            "text/plain": [
              "torch.Size([2])"
            ]
          },
          "metadata": {
            "tags": []
          },
          "execution_count": 3
        }
      ]
    },
    {
      "cell_type": "code",
      "metadata": {
        "colab_type": "code",
        "id": "4gXf0akDYJ9Z",
        "outputId": "e6fe7979-278d-4e6f-ff83-56c7f38549ab",
        "colab": {
          "base_uri": "https://localhost:8080/",
          "height": 51
        }
      },
      "source": [
        "b = torch.FloatTensor([[1,2,3], [4,5,6]])\n",
        "b"
      ],
      "execution_count": 5,
      "outputs": [
        {
          "output_type": "execute_result",
          "data": {
            "text/plain": [
              "tensor([[1., 2., 3.],\n",
              "        [4., 5., 6.]])"
            ]
          },
          "metadata": {
            "tags": []
          },
          "execution_count": 5
        }
      ]
    },
    {
      "cell_type": "code",
      "metadata": {
        "colab_type": "code",
        "id": "0HTkoIzpYJ9e",
        "outputId": "bbdd6375-a14e-4417-8911-53a7fb02cf1f",
        "colab": {
          "base_uri": "https://localhost:8080/",
          "height": 34
        }
      },
      "source": [
        "b.shape"
      ],
      "execution_count": 5,
      "outputs": [
        {
          "output_type": "execute_result",
          "data": {
            "text/plain": [
              "torch.Size([2, 3])"
            ]
          },
          "metadata": {
            "tags": []
          },
          "execution_count": 5
        }
      ]
    },
    {
      "cell_type": "code",
      "metadata": {
        "colab_type": "code",
        "id": "WYJ9L-yFYJ9j",
        "colab": {}
      },
      "source": [
        "x = torch.FloatTensor(2,3,4)"
      ],
      "execution_count": 0,
      "outputs": []
    },
    {
      "cell_type": "code",
      "metadata": {
        "colab_type": "code",
        "id": "qWAEP27IYJ9m",
        "outputId": "864a9ee3-6d4a-43e4-9687-f1deed354806",
        "colab": {
          "base_uri": "https://localhost:8080/",
          "height": 136
        }
      },
      "source": [
        "x"
      ],
      "execution_count": 8,
      "outputs": [
        {
          "output_type": "execute_result",
          "data": {
            "text/plain": [
              "tensor([[[2.8570e-36, 0.0000e+00, 7.0065e-44, 6.7262e-44],\n",
              "         [6.3058e-44, 6.7262e-44, 7.2868e-44, 6.3058e-44],\n",
              "         [6.7262e-44, 7.7071e-44, 1.1771e-43, 6.8664e-44]],\n",
              "\n",
              "        [[7.7071e-44, 8.1275e-44, 7.0065e-44, 7.2868e-44],\n",
              "         [8.1275e-44, 7.2868e-44, 7.9874e-44, 6.4460e-44],\n",
              "         [7.4269e-44, 7.2868e-44, 7.7071e-44, 6.7262e-44]]])"
            ]
          },
          "metadata": {
            "tags": []
          },
          "execution_count": 8
        }
      ]
    },
    {
      "cell_type": "code",
      "metadata": {
        "colab_type": "code",
        "id": "o5CsOJ_xYJ9s",
        "outputId": "313387be-ff13-4de9-db37-96632eb861c6",
        "scrolled": true,
        "colab": {
          "base_uri": "https://localhost:8080/",
          "height": 306
        }
      },
      "source": [
        "x = torch.FloatTensor(100)\n",
        "x"
      ],
      "execution_count": 9,
      "outputs": [
        {
          "output_type": "execute_result",
          "data": {
            "text/plain": [
              "tensor([1.3592e-36, 0.0000e+00, 4.3903e-38, 0.0000e+00, 1.3811e-37, 0.0000e+00,\n",
              "        0.0000e+00, 0.0000e+00, 0.0000e+00, 0.0000e+00, 0.0000e+00, 0.0000e+00,\n",
              "        0.0000e+00, 0.0000e+00, 0.0000e+00, 0.0000e+00, 0.0000e+00, 0.0000e+00,\n",
              "        1.3542e-36, 0.0000e+00, 4.2039e-45, 0.0000e+00, 0.0000e+00, 0.0000e+00,\n",
              "        0.0000e+00, 0.0000e+00, 1.0000e+00, 4.5916e-41, 4.2039e-45, 0.0000e+00,\n",
              "        0.0000e+00, 0.0000e+00, 1.3542e-36, 0.0000e+00, 4.2039e-45, 0.0000e+00,\n",
              "        0.0000e+00, 0.0000e+00, 0.0000e+00, 0.0000e+00, 1.0000e+00, 4.5916e-41,\n",
              "        4.2039e-45, 0.0000e+00, 0.0000e+00, 0.0000e+00, 0.0000e+00, 0.0000e+00,\n",
              "        0.0000e+00, 0.0000e+00, 0.0000e+00, 0.0000e+00, 1.4013e-45, 0.0000e+00,\n",
              "        0.0000e+00, 0.0000e+00, 1.3542e-36, 0.0000e+00, 5.2751e-37, 0.0000e+00,\n",
              "        5.2751e-37, 0.0000e+00, 0.0000e+00, 0.0000e+00, 0.0000e+00, 0.0000e+00,\n",
              "        0.0000e+00, 0.0000e+00, 0.0000e+00, 0.0000e+00, 0.0000e+00, 0.0000e+00,\n",
              "        0.0000e+00, 0.0000e+00, 0.0000e+00, 0.0000e+00, 0.0000e+00, 0.0000e+00,\n",
              "        0.0000e+00, 0.0000e+00, 0.0000e+00, 0.0000e+00, 0.0000e+00, 0.0000e+00,\n",
              "        0.0000e+00, 0.0000e+00, 0.0000e+00, 0.0000e+00, 0.0000e+00, 0.0000e+00,\n",
              "        0.0000e+00, 0.0000e+00, 0.0000e+00, 0.0000e+00, 0.0000e+00, 0.0000e+00,\n",
              "        0.0000e+00, 0.0000e+00, 0.0000e+00, 0.0000e+00])"
            ]
          },
          "metadata": {
            "tags": []
          },
          "execution_count": 9
        }
      ]
    },
    {
      "cell_type": "code",
      "metadata": {
        "colab_type": "code",
        "id": "uIVhvmzZYJ91",
        "outputId": "a56c679e-da6d-446d-ebe8-a3c5cc447943",
        "colab": {
          "base_uri": "https://localhost:8080/",
          "height": 34
        }
      },
      "source": [
        "x = torch.IntTensor(45, 57, 14, 2)\n",
        "x.shape"
      ],
      "execution_count": 10,
      "outputs": [
        {
          "output_type": "execute_result",
          "data": {
            "text/plain": [
              "torch.Size([45, 57, 14, 2])"
            ]
          },
          "metadata": {
            "tags": []
          },
          "execution_count": 10
        }
      ]
    },
    {
      "cell_type": "markdown",
      "metadata": {
        "colab_type": "text",
        "id": "cUzl8DFRYJ95"
      },
      "source": [
        "**Note:** if you create `torch.Tensor` with the following constructor it will be filled with the \"random trash numbers\":"
      ]
    },
    {
      "cell_type": "code",
      "metadata": {
        "colab_type": "code",
        "id": "QX0QcIOzYJ96",
        "outputId": "43a84960-c940-4e20-a078-1beb5a974feb",
        "colab": {
          "base_uri": "https://localhost:8080/",
          "height": 153
        }
      },
      "source": [
        "x = torch.IntTensor(3, 2, 4)\n",
        "x"
      ],
      "execution_count": 11,
      "outputs": [
        {
          "output_type": "execute_result",
          "data": {
            "text/plain": [
              "tensor([[[74648448,        0,       50,       48],\n",
              "         [      45,       48,       52,       45]],\n",
              "\n",
              "        [[      48,       55,       84,       49],\n",
              "         [      55,       58,       50,       53]],\n",
              "\n",
              "        [[      58,       51,       51,       46],\n",
              "         [      51,       48,       51,       48]]], dtype=torch.int32)"
            ]
          },
          "metadata": {
            "tags": []
          },
          "execution_count": 11
        }
      ]
    },
    {
      "cell_type": "markdown",
      "metadata": {
        "id": "utra2t4SbdQR",
        "colab_type": "text"
      },
      "source": [
        "Here is a way to fill a new tensor with zeroes:"
      ]
    },
    {
      "cell_type": "code",
      "metadata": {
        "colab_type": "code",
        "id": "XV3w9lVwYJ-A",
        "outputId": "8eff2e87-1c52-4629-a8e8-aa6390fed49a",
        "colab": {
          "base_uri": "https://localhost:8080/",
          "height": 153
        }
      },
      "source": [
        "x = torch.IntTensor(3, 2, 4).zero_()\n",
        "x"
      ],
      "execution_count": 12,
      "outputs": [
        {
          "output_type": "execute_result",
          "data": {
            "text/plain": [
              "tensor([[[0, 0, 0, 0],\n",
              "         [0, 0, 0, 0]],\n",
              "\n",
              "        [[0, 0, 0, 0],\n",
              "         [0, 0, 0, 0]],\n",
              "\n",
              "        [[0, 0, 0, 0],\n",
              "         [0, 0, 0, 0]]], dtype=torch.int32)"
            ]
          },
          "metadata": {
            "tags": []
          },
          "execution_count": 12
        }
      ]
    },
    {
      "cell_type": "markdown",
      "metadata": {
        "id": "bzq1klQuzXA9",
        "colab_type": "text"
      },
      "source": [
        "## Как писать на torch, если знаешь numpy\n",
        "\n",
        "Все функции на numpy имеют соответствующие функции на torch. Их соответствие вы можете посмотреть здесь:\n",
        "\n",
        "https://github.com/torch/torch7/wiki/Torch-for-Numpy-users"
      ]
    },
    {
      "cell_type": "markdown",
      "metadata": {
        "colab_type": "text",
        "id": "SAAmLRwzYJ-E"
      },
      "source": [
        "`np.reshape()` == `torch.view()`:"
      ]
    },
    {
      "cell_type": "code",
      "metadata": {
        "colab_type": "code",
        "id": "spMYG2xXYJ-L",
        "outputId": "95c77da4-c0b4-4771-da34-9f5e607236de",
        "colab": {
          "base_uri": "https://localhost:8080/",
          "height": 51
        }
      },
      "source": [
        "b"
      ],
      "execution_count": 6,
      "outputs": [
        {
          "output_type": "execute_result",
          "data": {
            "text/plain": [
              "tensor([[1., 2., 3.],\n",
              "        [4., 5., 6.]])"
            ]
          },
          "metadata": {
            "tags": []
          },
          "execution_count": 6
        }
      ]
    },
    {
      "cell_type": "code",
      "metadata": {
        "colab_type": "code",
        "id": "ePjL3X3GYJ-H",
        "outputId": "ec9cb0fe-dcda-45ff-f05f-4fb28749b74f",
        "colab": {
          "base_uri": "https://localhost:8080/",
          "height": 68
        }
      },
      "source": [
        "b.view(3, 2)"
      ],
      "execution_count": 7,
      "outputs": [
        {
          "output_type": "execute_result",
          "data": {
            "text/plain": [
              "tensor([[1., 2.],\n",
              "        [3., 4.],\n",
              "        [5., 6.]])"
            ]
          },
          "metadata": {
            "tags": []
          },
          "execution_count": 7
        }
      ]
    },
    {
      "cell_type": "markdown",
      "metadata": {
        "colab_type": "text",
        "id": "amVu0N1zYJ-O"
      },
      "source": [
        "**Note:** `torch.view()` creates a new tensor, one the old one remains unchanged"
      ]
    },
    {
      "cell_type": "code",
      "metadata": {
        "colab_type": "code",
        "id": "hWqyugOSYJ-Q",
        "outputId": "7e6d5265-48da-4342-a5ea-53b523d7244d",
        "colab": {
          "base_uri": "https://localhost:8080/",
          "height": 34
        }
      },
      "source": [
        "b.view(-1)"
      ],
      "execution_count": 8,
      "outputs": [
        {
          "output_type": "execute_result",
          "data": {
            "text/plain": [
              "tensor([1., 2., 3., 4., 5., 6.])"
            ]
          },
          "metadata": {
            "tags": []
          },
          "execution_count": 8
        }
      ]
    },
    {
      "cell_type": "code",
      "metadata": {
        "colab_type": "code",
        "id": "S9CvF56uYJ-U",
        "outputId": "32e7d826-00e2-4b0f-a017-16b164923c75",
        "colab": {
          "base_uri": "https://localhost:8080/",
          "height": 51
        }
      },
      "source": [
        "b"
      ],
      "execution_count": 9,
      "outputs": [
        {
          "output_type": "execute_result",
          "data": {
            "text/plain": [
              "tensor([[1., 2., 3.],\n",
              "        [4., 5., 6.]])"
            ]
          },
          "metadata": {
            "tags": []
          },
          "execution_count": 9
        }
      ]
    },
    {
      "cell_type": "markdown",
      "metadata": {
        "colab_type": "text",
        "id": "t401j1E2YJ-Z"
      },
      "source": [
        "* Change a tensor type:"
      ]
    },
    {
      "cell_type": "code",
      "metadata": {
        "colab_type": "code",
        "id": "f_iDUEH4YJ-Z",
        "colab": {}
      },
      "source": [
        "a = torch.FloatTensor([1.5, 3.2, -7])"
      ],
      "execution_count": 0,
      "outputs": []
    },
    {
      "cell_type": "code",
      "metadata": {
        "colab_type": "code",
        "id": "EzJOrXitYJ-e",
        "outputId": "5eb0fa10-fa47-4044-d9e2-608145de82a8",
        "colab": {
          "base_uri": "https://localhost:8080/",
          "height": 34
        }
      },
      "source": [
        "a.type_as(torch.IntTensor())"
      ],
      "execution_count": 13,
      "outputs": [
        {
          "output_type": "execute_result",
          "data": {
            "text/plain": [
              "tensor([ 1,  3, -7], dtype=torch.int32)"
            ]
          },
          "metadata": {
            "tags": []
          },
          "execution_count": 13
        }
      ]
    },
    {
      "cell_type": "code",
      "metadata": {
        "colab_type": "code",
        "id": "hAe3OWWUYJ-i",
        "outputId": "a8e00f82-09b0-4aaf-b380-a955157750d1",
        "colab": {
          "base_uri": "https://localhost:8080/",
          "height": 34
        }
      },
      "source": [
        "a.type_as(torch.ByteTensor())"
      ],
      "execution_count": 15,
      "outputs": [
        {
          "output_type": "execute_result",
          "data": {
            "text/plain": [
              "tensor([  1,   3, 249], dtype=torch.uint8)"
            ]
          },
          "metadata": {
            "tags": []
          },
          "execution_count": 15
        }
      ]
    },
    {
      "cell_type": "markdown",
      "metadata": {
        "colab_type": "text",
        "id": "4rkatrUeYJ-n"
      },
      "source": [
        "**Note:** `.type_as()` creates a new tensor, the old one remains unchanged"
      ]
    },
    {
      "cell_type": "code",
      "metadata": {
        "colab_type": "code",
        "id": "fCgDT14MYJ-o",
        "outputId": "f3bfb368-e16b-4c5e-ad2e-71a358dabfd1",
        "colab": {
          "base_uri": "https://localhost:8080/",
          "height": 34
        }
      },
      "source": [
        "a"
      ],
      "execution_count": 16,
      "outputs": [
        {
          "output_type": "execute_result",
          "data": {
            "text/plain": [
              "tensor([ 1.5000,  3.2000, -7.0000])"
            ]
          },
          "metadata": {
            "tags": []
          },
          "execution_count": 16
        }
      ]
    },
    {
      "cell_type": "markdown",
      "metadata": {
        "colab_type": "text",
        "id": "hG1OwtFBYJ-r"
      },
      "source": [
        "* Indexing is just like in `NumPy`:"
      ]
    },
    {
      "cell_type": "code",
      "metadata": {
        "colab_type": "code",
        "id": "prr0EGIYYJ-r",
        "outputId": "54a7b1e1-930a-4878-ba5b-ee7beb3484e6",
        "colab": {
          "base_uri": "https://localhost:8080/",
          "height": 68
        }
      },
      "source": [
        "a = torch.FloatTensor([[100, 20, 35], [15, 163, 534], [52, 90, 66]])\n",
        "a"
      ],
      "execution_count": 17,
      "outputs": [
        {
          "output_type": "execute_result",
          "data": {
            "text/plain": [
              "tensor([[100.,  20.,  35.],\n",
              "        [ 15., 163., 534.],\n",
              "        [ 52.,  90.,  66.]])"
            ]
          },
          "metadata": {
            "tags": []
          },
          "execution_count": 17
        }
      ]
    },
    {
      "cell_type": "code",
      "metadata": {
        "colab_type": "code",
        "id": "IBq7JiccYJ-w",
        "outputId": "9cb40801-f76e-4ba1-df7a-e72f99928534",
        "colab": {
          "base_uri": "https://localhost:8080/",
          "height": 34
        }
      },
      "source": [
        "a[0, 0]"
      ],
      "execution_count": 18,
      "outputs": [
        {
          "output_type": "execute_result",
          "data": {
            "text/plain": [
              "tensor(100.)"
            ]
          },
          "metadata": {
            "tags": []
          },
          "execution_count": 18
        }
      ]
    },
    {
      "cell_type": "code",
      "metadata": {
        "colab_type": "code",
        "id": "vE9cb0XkYJ-z",
        "outputId": "bcf9ae04-273b-4e35-f600-bd736e27e417",
        "colab": {
          "base_uri": "https://localhost:8080/",
          "height": 34
        }
      },
      "source": [
        "a[0][0]"
      ],
      "execution_count": 19,
      "outputs": [
        {
          "output_type": "execute_result",
          "data": {
            "text/plain": [
              "tensor(100.)"
            ]
          },
          "metadata": {
            "tags": []
          },
          "execution_count": 19
        }
      ]
    },
    {
      "cell_type": "code",
      "metadata": {
        "colab_type": "code",
        "id": "UUZzx2F_YJ-2",
        "outputId": "0b19c116-1871-49d3-e652-28a2bc065ebf",
        "colab": {
          "base_uri": "https://localhost:8080/",
          "height": 51
        }
      },
      "source": [
        "a[0:2, 0:2]"
      ],
      "execution_count": 20,
      "outputs": [
        {
          "output_type": "execute_result",
          "data": {
            "text/plain": [
              "tensor([[100.,  20.],\n",
              "        [ 15., 163.]])"
            ]
          },
          "metadata": {
            "tags": []
          },
          "execution_count": 20
        }
      ]
    },
    {
      "cell_type": "markdown",
      "metadata": {
        "colab_type": "text",
        "id": "KffQsYwWYJ_D"
      },
      "source": [
        "**Ariphmetics and boolean operations** and their analogues:  \n",
        "\n",
        "| Оператор | Аналог |\n",
        "|:-:|:-:|\n",
        "|`+`| `torch.add()` |\n",
        "|`-`| `torch.sub()` |\n",
        "|`*`| `torch.mul()` |\n",
        "|`/`| `torch.div()` |"
      ]
    },
    {
      "cell_type": "markdown",
      "metadata": {
        "colab_type": "text",
        "id": "UMpR8T11YJ_D"
      },
      "source": [
        "* Addition:"
      ]
    },
    {
      "cell_type": "code",
      "metadata": {
        "colab_type": "code",
        "id": "1XHkSjEUYJ_D",
        "colab": {}
      },
      "source": [
        "a = torch.FloatTensor([[1, 2, 3], [10, 20, 30], [100, 200, 300]])\n",
        "b = torch.FloatTensor([[-1, -2, -3], [-10, -20, -30], [100, 200, 300]])"
      ],
      "execution_count": 0,
      "outputs": []
    },
    {
      "cell_type": "code",
      "metadata": {
        "colab_type": "code",
        "id": "td25tuFKYJ_H",
        "outputId": "ed663023-1bbb-4753-a11c-970d1d0d282d",
        "colab": {
          "base_uri": "https://localhost:8080/",
          "height": 68
        }
      },
      "source": [
        "a + b"
      ],
      "execution_count": 22,
      "outputs": [
        {
          "output_type": "execute_result",
          "data": {
            "text/plain": [
              "tensor([[  0.,   0.,   0.],\n",
              "        [  0.,   0.,   0.],\n",
              "        [200., 400., 600.]])"
            ]
          },
          "metadata": {
            "tags": []
          },
          "execution_count": 22
        }
      ]
    },
    {
      "cell_type": "code",
      "metadata": {
        "colab_type": "code",
        "id": "wHka8PxFYJ_N",
        "outputId": "a9eb3915-8808-4e95-a99f-ac5e585c4814",
        "colab": {
          "base_uri": "https://localhost:8080/",
          "height": 68
        }
      },
      "source": [
        "a.add(b)"
      ],
      "execution_count": 23,
      "outputs": [
        {
          "output_type": "execute_result",
          "data": {
            "text/plain": [
              "tensor([[  0.,   0.,   0.],\n",
              "        [  0.,   0.,   0.],\n",
              "        [200., 400., 600.]])"
            ]
          },
          "metadata": {
            "tags": []
          },
          "execution_count": 23
        }
      ]
    },
    {
      "cell_type": "code",
      "metadata": {
        "colab_type": "code",
        "id": "FHQj4DbBYJ_Q",
        "outputId": "39c4d17c-a33b-4922-ca38-3f86b5b621e1",
        "colab": {
          "base_uri": "https://localhost:8080/",
          "height": 68
        }
      },
      "source": [
        "b = -a\n",
        "b"
      ],
      "execution_count": 24,
      "outputs": [
        {
          "output_type": "execute_result",
          "data": {
            "text/plain": [
              "tensor([[  -1.,   -2.,   -3.],\n",
              "        [ -10.,  -20.,  -30.],\n",
              "        [-100., -200., -300.]])"
            ]
          },
          "metadata": {
            "tags": []
          },
          "execution_count": 24
        }
      ]
    },
    {
      "cell_type": "code",
      "metadata": {
        "colab_type": "code",
        "id": "xLCDzO7iYJ_V",
        "outputId": "ed4e669b-a647-4d67-e774-1330b879b63f",
        "colab": {
          "base_uri": "https://localhost:8080/",
          "height": 74
        }
      },
      "source": [
        "a + b"
      ],
      "execution_count": 0,
      "outputs": [
        {
          "output_type": "execute_result",
          "data": {
            "text/plain": [
              "tensor([[0., 0., 0.],\n",
              "        [0., 0., 0.],\n",
              "        [0., 0., 0.]])"
            ]
          },
          "metadata": {
            "tags": []
          },
          "execution_count": 50
        }
      ]
    },
    {
      "cell_type": "markdown",
      "metadata": {
        "colab_type": "text",
        "id": "z_3gVLY3YJ_Z"
      },
      "source": [
        "* Subtraction:"
      ]
    },
    {
      "cell_type": "code",
      "metadata": {
        "colab_type": "code",
        "id": "PANHq3eFYJ_a",
        "outputId": "f90fe780-58f9-4473-ca5e-7da2616ddd05",
        "colab": {
          "base_uri": "https://localhost:8080/",
          "height": 68
        }
      },
      "source": [
        "a - b"
      ],
      "execution_count": 25,
      "outputs": [
        {
          "output_type": "execute_result",
          "data": {
            "text/plain": [
              "tensor([[  2.,   4.,   6.],\n",
              "        [ 20.,  40.,  60.],\n",
              "        [200., 400., 600.]])"
            ]
          },
          "metadata": {
            "tags": []
          },
          "execution_count": 25
        }
      ]
    },
    {
      "cell_type": "code",
      "metadata": {
        "colab_type": "code",
        "id": "AH7xhdkRYJ_i",
        "outputId": "c38cb87d-78ec-405c-b978-022f8df5e710",
        "colab": {
          "base_uri": "https://localhost:8080/",
          "height": 68
        }
      },
      "source": [
        "a.sub(b)"
      ],
      "execution_count": 26,
      "outputs": [
        {
          "output_type": "execute_result",
          "data": {
            "text/plain": [
              "tensor([[  2.,   4.,   6.],\n",
              "        [ 20.,  40.,  60.],\n",
              "        [200., 400., 600.]])"
            ]
          },
          "metadata": {
            "tags": []
          },
          "execution_count": 26
        }
      ]
    },
    {
      "cell_type": "markdown",
      "metadata": {
        "colab_type": "text",
        "id": "KOX3dTuZYJ_l"
      },
      "source": [
        "* Multiplication (elementwise):"
      ]
    },
    {
      "cell_type": "code",
      "metadata": {
        "colab_type": "code",
        "id": "J380CvNGYJ_m",
        "outputId": "a5dbd148-5cf6-4103-f030-3c3b76445a43",
        "colab": {
          "base_uri": "https://localhost:8080/",
          "height": 68
        }
      },
      "source": [
        "a * b"
      ],
      "execution_count": 27,
      "outputs": [
        {
          "output_type": "execute_result",
          "data": {
            "text/plain": [
              "tensor([[-1.0000e+00, -4.0000e+00, -9.0000e+00],\n",
              "        [-1.0000e+02, -4.0000e+02, -9.0000e+02],\n",
              "        [-1.0000e+04, -4.0000e+04, -9.0000e+04]])"
            ]
          },
          "metadata": {
            "tags": []
          },
          "execution_count": 27
        }
      ]
    },
    {
      "cell_type": "code",
      "metadata": {
        "colab_type": "code",
        "id": "cixW0jgdYJ_o",
        "outputId": "0063ff19-02c1-452f-ee26-a7aafac5f546",
        "colab": {
          "base_uri": "https://localhost:8080/",
          "height": 68
        }
      },
      "source": [
        "a.mul(b)"
      ],
      "execution_count": 28,
      "outputs": [
        {
          "output_type": "execute_result",
          "data": {
            "text/plain": [
              "tensor([[-1.0000e+00, -4.0000e+00, -9.0000e+00],\n",
              "        [-1.0000e+02, -4.0000e+02, -9.0000e+02],\n",
              "        [-1.0000e+04, -4.0000e+04, -9.0000e+04]])"
            ]
          },
          "metadata": {
            "tags": []
          },
          "execution_count": 28
        }
      ]
    },
    {
      "cell_type": "markdown",
      "metadata": {
        "colab_type": "text",
        "id": "V-GYTERKYJ_q"
      },
      "source": [
        "* Division (elementwise):"
      ]
    },
    {
      "cell_type": "code",
      "metadata": {
        "colab_type": "code",
        "id": "fUBQns2SYJ_r",
        "colab": {}
      },
      "source": [
        "a = torch.FloatTensor([[1, 2, 3], [10, 20, 30], [100, 200, 300]])\n",
        "b = torch.FloatTensor([[-1, -2, -3], [-10, -20, -30], [100, 200, 300]])"
      ],
      "execution_count": 0,
      "outputs": []
    },
    {
      "cell_type": "code",
      "metadata": {
        "colab_type": "code",
        "id": "2hrKeMjAYJ_v",
        "outputId": "64a0973d-e48f-432e-9bd9-0715d4aab83b",
        "colab": {
          "base_uri": "https://localhost:8080/",
          "height": 68
        }
      },
      "source": [
        "a / b"
      ],
      "execution_count": 29,
      "outputs": [
        {
          "output_type": "execute_result",
          "data": {
            "text/plain": [
              "tensor([[-1., -1., -1.],\n",
              "        [-1., -1., -1.],\n",
              "        [-1., -1., -1.]])"
            ]
          },
          "metadata": {
            "tags": []
          },
          "execution_count": 29
        }
      ]
    },
    {
      "cell_type": "markdown",
      "metadata": {
        "colab_type": "text",
        "id": "KvcGLFVNYJ_0"
      },
      "source": [
        "Лучше:"
      ]
    },
    {
      "cell_type": "code",
      "metadata": {
        "colab_type": "code",
        "id": "cpg3YFVPYJ_2",
        "outputId": "bec99603-0be8-470c-afe2-9a53f11423e0",
        "colab": {
          "base_uri": "https://localhost:8080/",
          "height": 74
        }
      },
      "source": [
        "a.div(b)"
      ],
      "execution_count": 0,
      "outputs": [
        {
          "output_type": "execute_result",
          "data": {
            "text/plain": [
              "tensor([[-1., -1., -1.],\n",
              "        [-1., -1., -1.],\n",
              "        [ 1.,  1.,  1.]])"
            ]
          },
          "metadata": {
            "tags": []
          },
          "execution_count": 70
        }
      ]
    },
    {
      "cell_type": "markdown",
      "metadata": {
        "colab_type": "text",
        "id": "VeLAbx1tYJ_7"
      },
      "source": [
        "**Note:** all this operations create new tensors, the old tensors remain unchanged"
      ]
    },
    {
      "cell_type": "code",
      "metadata": {
        "colab_type": "code",
        "id": "57BFtnlgYJ_8",
        "outputId": "558e4251-66c7-4cfe-9929-64476a7d60e2",
        "colab": {
          "base_uri": "https://localhost:8080/",
          "height": 68
        }
      },
      "source": [
        "a"
      ],
      "execution_count": 30,
      "outputs": [
        {
          "output_type": "execute_result",
          "data": {
            "text/plain": [
              "tensor([[  1.,   2.,   3.],\n",
              "        [ 10.,  20.,  30.],\n",
              "        [100., 200., 300.]])"
            ]
          },
          "metadata": {
            "tags": []
          },
          "execution_count": 30
        }
      ]
    },
    {
      "cell_type": "code",
      "metadata": {
        "colab_type": "code",
        "id": "UziXyvtDYJ_-",
        "outputId": "19cef559-8df0-41ca-e5a1-145ada8e9a14",
        "colab": {
          "base_uri": "https://localhost:8080/",
          "height": 68
        }
      },
      "source": [
        "b"
      ],
      "execution_count": 31,
      "outputs": [
        {
          "output_type": "execute_result",
          "data": {
            "text/plain": [
              "tensor([[  -1.,   -2.,   -3.],\n",
              "        [ -10.,  -20.,  -30.],\n",
              "        [-100., -200., -300.]])"
            ]
          },
          "metadata": {
            "tags": []
          },
          "execution_count": 31
        }
      ]
    },
    {
      "cell_type": "markdown",
      "metadata": {
        "colab_type": "text",
        "id": "vLpwZPc3YKAC"
      },
      "source": [
        "* Comparison operators:"
      ]
    },
    {
      "cell_type": "code",
      "metadata": {
        "colab_type": "code",
        "id": "FfRzvw_UYKAC",
        "colab": {}
      },
      "source": [
        "a = torch.FloatTensor([[1, 2, 3], [10, 20, 30], [100, 200, 300]])\n",
        "b = torch.FloatTensor([[-1, -2, -3], [-10, -20, -30], [100, 200, 300]])"
      ],
      "execution_count": 0,
      "outputs": []
    },
    {
      "cell_type": "code",
      "metadata": {
        "colab_type": "code",
        "id": "o1RUTP2BYKAD",
        "outputId": "a82a3aa6-999e-43d9-bd45-f7dff6467de3",
        "colab": {
          "base_uri": "https://localhost:8080/",
          "height": 68
        }
      },
      "source": [
        "a == b  "
      ],
      "execution_count": 4,
      "outputs": [
        {
          "output_type": "execute_result",
          "data": {
            "text/plain": [
              "tensor([[False, False, False],\n",
              "        [False, False, False],\n",
              "        [ True,  True,  True]])"
            ]
          },
          "metadata": {
            "tags": []
          },
          "execution_count": 4
        }
      ]
    },
    {
      "cell_type": "code",
      "metadata": {
        "colab_type": "code",
        "id": "JO3HaVIAYKAF",
        "outputId": "71d61b47-47e8-4455-96c1-698491a08e2d",
        "colab": {
          "base_uri": "https://localhost:8080/",
          "height": 68
        }
      },
      "source": [
        "a != b"
      ],
      "execution_count": 5,
      "outputs": [
        {
          "output_type": "execute_result",
          "data": {
            "text/plain": [
              "tensor([[ True,  True,  True],\n",
              "        [ True,  True,  True],\n",
              "        [False, False, False]])"
            ]
          },
          "metadata": {
            "tags": []
          },
          "execution_count": 5
        }
      ]
    },
    {
      "cell_type": "code",
      "metadata": {
        "colab_type": "code",
        "id": "DExLBj4VYKAH",
        "outputId": "c8528e05-9a02-4fda-bd87-f97cb6831017",
        "colab": {
          "base_uri": "https://localhost:8080/",
          "height": 74
        }
      },
      "source": [
        "a < b"
      ],
      "execution_count": 0,
      "outputs": [
        {
          "output_type": "execute_result",
          "data": {
            "text/plain": [
              "tensor([[False, False, False],\n",
              "        [False, False, False],\n",
              "        [False, False, False]])"
            ]
          },
          "metadata": {
            "tags": []
          },
          "execution_count": 76
        }
      ]
    },
    {
      "cell_type": "code",
      "metadata": {
        "colab_type": "code",
        "id": "0_IH_FUNYKAJ",
        "outputId": "b4c9bc44-3ba3-4d6e-85b3-9945e62cfd45",
        "colab": {
          "base_uri": "https://localhost:8080/",
          "height": 68
        }
      },
      "source": [
        "a > b"
      ],
      "execution_count": 34,
      "outputs": [
        {
          "output_type": "execute_result",
          "data": {
            "text/plain": [
              "tensor([[ True,  True,  True],\n",
              "        [ True,  True,  True],\n",
              "        [False, False, False]])"
            ]
          },
          "metadata": {
            "tags": []
          },
          "execution_count": 34
        }
      ]
    },
    {
      "cell_type": "markdown",
      "metadata": {
        "colab_type": "text",
        "id": "24nzBJR8YKAM"
      },
      "source": [
        "* Using boolean mask indexing:"
      ]
    },
    {
      "cell_type": "code",
      "metadata": {
        "colab_type": "code",
        "id": "C-xVDslwYKAN",
        "outputId": "5d5cd37a-2755-4c33-dde2-e4c20aaab0b1",
        "colab": {
          "base_uri": "https://localhost:8080/",
          "height": 34
        }
      },
      "source": [
        "a[a > b]"
      ],
      "execution_count": 35,
      "outputs": [
        {
          "output_type": "execute_result",
          "data": {
            "text/plain": [
              "tensor([ 1.,  2.,  3., 10., 20., 30.])"
            ]
          },
          "metadata": {
            "tags": []
          },
          "execution_count": 35
        }
      ]
    },
    {
      "cell_type": "code",
      "metadata": {
        "colab_type": "code",
        "id": "XatDJF5YYKAQ",
        "outputId": "98ed69f1-401d-45fa-f10c-520b7b408049",
        "colab": {
          "base_uri": "https://localhost:8080/",
          "height": 34
        }
      },
      "source": [
        "b[a == b]"
      ],
      "execution_count": 36,
      "outputs": [
        {
          "output_type": "execute_result",
          "data": {
            "text/plain": [
              "tensor([100., 200., 300.])"
            ]
          },
          "metadata": {
            "tags": []
          },
          "execution_count": 36
        }
      ]
    },
    {
      "cell_type": "markdown",
      "metadata": {
        "colab_type": "text",
        "id": "54bQky1bYKAf"
      },
      "source": [
        "Elementwise application of the **universal functions**:"
      ]
    },
    {
      "cell_type": "code",
      "metadata": {
        "colab_type": "code",
        "id": "lWnGSuUhYKAf",
        "colab": {}
      },
      "source": [
        "a = torch.FloatTensor([[1, 2, 3], [10, 20, 30], [100, 200, 300]])"
      ],
      "execution_count": 0,
      "outputs": []
    },
    {
      "cell_type": "code",
      "metadata": {
        "colab_type": "code",
        "id": "J6ZyxZBNYKAl",
        "outputId": "a96d8c8f-aa00-4ce1-fd56-2b03576e807f",
        "colab": {
          "base_uri": "https://localhost:8080/",
          "height": 68
        }
      },
      "source": [
        "a.sin()"
      ],
      "execution_count": 7,
      "outputs": [
        {
          "output_type": "execute_result",
          "data": {
            "text/plain": [
              "tensor([[ 0.8415,  0.9093,  0.1411],\n",
              "        [-0.5440,  0.9129, -0.9880],\n",
              "        [-0.5064, -0.8733, -0.9998]])"
            ]
          },
          "metadata": {
            "tags": []
          },
          "execution_count": 7
        }
      ]
    },
    {
      "cell_type": "code",
      "metadata": {
        "colab_type": "code",
        "id": "SScTSkJMYKAo",
        "outputId": "12de6b19-a523-495a-919e-7c3763e37747",
        "colab": {
          "base_uri": "https://localhost:8080/",
          "height": 68
        }
      },
      "source": [
        "torch.sin(a)"
      ],
      "execution_count": 41,
      "outputs": [
        {
          "output_type": "execute_result",
          "data": {
            "text/plain": [
              "tensor([[ 0.8415,  0.9093,  0.1411],\n",
              "        [-0.5440,  0.9129, -0.9880],\n",
              "        [-0.5064, -0.8733, -0.9998]])"
            ]
          },
          "metadata": {
            "tags": []
          },
          "execution_count": 41
        }
      ]
    },
    {
      "cell_type": "code",
      "metadata": {
        "colab_type": "code",
        "id": "0bYVYVV7YKAr",
        "outputId": "b588b8a3-0f70-40a7-893f-fa5a21c1c88f",
        "colab": {
          "base_uri": "https://localhost:8080/",
          "height": 68
        }
      },
      "source": [
        "a.cos()"
      ],
      "execution_count": 42,
      "outputs": [
        {
          "output_type": "execute_result",
          "data": {
            "text/plain": [
              "tensor([[ 0.5403, -0.4161, -0.9900],\n",
              "        [-0.8391,  0.4081,  0.1543],\n",
              "        [ 0.8623,  0.4872, -0.0221]])"
            ]
          },
          "metadata": {
            "tags": []
          },
          "execution_count": 42
        }
      ]
    },
    {
      "cell_type": "code",
      "metadata": {
        "colab_type": "code",
        "id": "c-rYL8HQYKAt",
        "outputId": "e77bf551-879e-4224-b1a1-ce11f8a239f3",
        "colab": {
          "base_uri": "https://localhost:8080/",
          "height": 68
        }
      },
      "source": [
        "a.exp()"
      ],
      "execution_count": 43,
      "outputs": [
        {
          "output_type": "execute_result",
          "data": {
            "text/plain": [
              "tensor([[2.7183e+00, 7.3891e+00, 2.0086e+01],\n",
              "        [2.2026e+04, 4.8517e+08, 1.0686e+13],\n",
              "        [       inf,        inf,        inf]])"
            ]
          },
          "metadata": {
            "tags": []
          },
          "execution_count": 43
        }
      ]
    },
    {
      "cell_type": "code",
      "metadata": {
        "colab_type": "code",
        "id": "EbiCDYUzYKAw",
        "outputId": "d00bad59-b0f7-444b-8856-b1ebc7655a88",
        "colab": {
          "base_uri": "https://localhost:8080/",
          "height": 74
        }
      },
      "source": [
        "a.log()"
      ],
      "execution_count": 0,
      "outputs": [
        {
          "output_type": "execute_result",
          "data": {
            "text/plain": [
              "tensor([[0.0000, 0.6931, 1.0986],\n",
              "        [2.3026, 2.9957, 3.4012],\n",
              "        [4.6052, 5.2983, 5.7038]])"
            ]
          },
          "metadata": {
            "tags": []
          },
          "execution_count": 148
        }
      ]
    },
    {
      "cell_type": "code",
      "metadata": {
        "colab_type": "code",
        "id": "yh1sySpiYKAy",
        "outputId": "e1bb086c-1ce2-486f-9d8d-208ebd09caa4",
        "colab": {
          "base_uri": "https://localhost:8080/",
          "height": 68
        }
      },
      "source": [
        "b = -a\n",
        "b"
      ],
      "execution_count": 9,
      "outputs": [
        {
          "output_type": "execute_result",
          "data": {
            "text/plain": [
              "tensor([[  -1.,   -2.,   -3.],\n",
              "        [ -10.,  -20.,  -30.],\n",
              "        [-100., -200., -300.]])"
            ]
          },
          "metadata": {
            "tags": []
          },
          "execution_count": 9
        }
      ]
    },
    {
      "cell_type": "code",
      "metadata": {
        "colab_type": "code",
        "id": "PNU0UxqIYKA2",
        "outputId": "4e7a48eb-fc93-4b3c-e6ad-ba03d6e9fefe",
        "colab": {
          "base_uri": "https://localhost:8080/",
          "height": 68
        }
      },
      "source": [
        "b.abs()"
      ],
      "execution_count": 10,
      "outputs": [
        {
          "output_type": "execute_result",
          "data": {
            "text/plain": [
              "tensor([[  1.,   2.,   3.],\n",
              "        [ 10.,  20.,  30.],\n",
              "        [100., 200., 300.]])"
            ]
          },
          "metadata": {
            "tags": []
          },
          "execution_count": 10
        }
      ]
    },
    {
      "cell_type": "markdown",
      "metadata": {
        "colab_type": "text",
        "id": "eqERQjISYKA9"
      },
      "source": [
        "* The sum, mean, max, min:"
      ]
    },
    {
      "cell_type": "code",
      "metadata": {
        "colab_type": "code",
        "id": "HLmJGdl9YKA-",
        "outputId": "dcc10c1d-f2ac-4dcb-c39e-460f75ee30e1",
        "colab": {
          "base_uri": "https://localhost:8080/",
          "height": 34
        }
      },
      "source": [
        "a.sum()"
      ],
      "execution_count": 11,
      "outputs": [
        {
          "output_type": "execute_result",
          "data": {
            "text/plain": [
              "tensor(666.)"
            ]
          },
          "metadata": {
            "tags": []
          },
          "execution_count": 11
        }
      ]
    },
    {
      "cell_type": "code",
      "metadata": {
        "colab_type": "code",
        "id": "ervIuNGnYKBD",
        "outputId": "515ae09f-30a4-4ac6-f2ae-da0c9a2ca9b4",
        "colab": {
          "base_uri": "https://localhost:8080/",
          "height": 36
        }
      },
      "source": [
        "a.mean()"
      ],
      "execution_count": 0,
      "outputs": [
        {
          "output_type": "execute_result",
          "data": {
            "text/plain": [
              "tensor(74.)"
            ]
          },
          "metadata": {
            "tags": []
          },
          "execution_count": 152
        }
      ]
    },
    {
      "cell_type": "markdown",
      "metadata": {
        "colab_type": "text",
        "id": "1qxkdUQ2YKBF"
      },
      "source": [
        "Along axis:"
      ]
    },
    {
      "cell_type": "code",
      "metadata": {
        "id": "OzU2H7jBbdS-",
        "colab_type": "code",
        "outputId": "216c4e33-66cc-4ba1-c46c-4d573cd7e6ae",
        "colab": {
          "base_uri": "https://localhost:8080/",
          "height": 68
        }
      },
      "source": [
        "a"
      ],
      "execution_count": 12,
      "outputs": [
        {
          "output_type": "execute_result",
          "data": {
            "text/plain": [
              "tensor([[  1.,   2.,   3.],\n",
              "        [ 10.,  20.,  30.],\n",
              "        [100., 200., 300.]])"
            ]
          },
          "metadata": {
            "tags": []
          },
          "execution_count": 12
        }
      ]
    },
    {
      "cell_type": "code",
      "metadata": {
        "colab_type": "code",
        "id": "cc6RjJYeYKBG",
        "outputId": "9d4eee7b-7239-411b-cc05-1183eb994d0e",
        "colab": {
          "base_uri": "https://localhost:8080/",
          "height": 34
        }
      },
      "source": [
        "a.sum(dim=0)"
      ],
      "execution_count": 15,
      "outputs": [
        {
          "output_type": "execute_result",
          "data": {
            "text/plain": [
              "tensor([111., 222., 333.])"
            ]
          },
          "metadata": {
            "tags": []
          },
          "execution_count": 15
        }
      ]
    },
    {
      "cell_type": "code",
      "metadata": {
        "colab_type": "code",
        "id": "Dgi5BmhOYKBJ",
        "outputId": "ff81c4ad-fb38-470f-d31e-1321fae2339f",
        "colab": {
          "base_uri": "https://localhost:8080/",
          "height": 34
        }
      },
      "source": [
        "a.sum(1)"
      ],
      "execution_count": 17,
      "outputs": [
        {
          "output_type": "execute_result",
          "data": {
            "text/plain": [
              "tensor([  6.,  60., 600.])"
            ]
          },
          "metadata": {
            "tags": []
          },
          "execution_count": 17
        }
      ]
    },
    {
      "cell_type": "code",
      "metadata": {
        "colab_type": "code",
        "id": "-tIkcTENYKBK",
        "outputId": "0e60bf8b-0979-4468-853a-af82a8dbc781",
        "colab": {
          "base_uri": "https://localhost:8080/",
          "height": 36
        }
      },
      "source": [
        "a.max()"
      ],
      "execution_count": 0,
      "outputs": [
        {
          "output_type": "execute_result",
          "data": {
            "text/plain": [
              "tensor(300.)"
            ]
          },
          "metadata": {
            "tags": []
          },
          "execution_count": 156
        }
      ]
    },
    {
      "cell_type": "code",
      "metadata": {
        "colab_type": "code",
        "id": "V4U_LyyPYKBL",
        "outputId": "14aaa5a8-c548-4c95-acae-b6696ea0c148",
        "colab": {
          "base_uri": "https://localhost:8080/",
          "height": 34
        }
      },
      "source": [
        "a.max(0)"
      ],
      "execution_count": 20,
      "outputs": [
        {
          "output_type": "execute_result",
          "data": {
            "text/plain": [
              "torch.return_types.max(values=tensor([100., 200., 300.]), indices=tensor([2, 2, 2]))"
            ]
          },
          "metadata": {
            "tags": []
          },
          "execution_count": 20
        }
      ]
    },
    {
      "cell_type": "code",
      "metadata": {
        "colab_type": "code",
        "id": "TSqmVtWjYKBO",
        "outputId": "639058aa-f16c-422b-f40a-a1b7e8b7a358",
        "colab": {
          "base_uri": "https://localhost:8080/",
          "height": 36
        }
      },
      "source": [
        "a.min()"
      ],
      "execution_count": 0,
      "outputs": [
        {
          "output_type": "execute_result",
          "data": {
            "text/plain": [
              "tensor(1.)"
            ]
          },
          "metadata": {
            "tags": []
          },
          "execution_count": 158
        }
      ]
    },
    {
      "cell_type": "code",
      "metadata": {
        "colab_type": "code",
        "id": "OeA2hlZ2YKBP",
        "outputId": "9b403bb8-6e6e-4a5f-f501-0f8321861b0c",
        "colab": {
          "base_uri": "https://localhost:8080/",
          "height": 36
        }
      },
      "source": [
        "a.min(0)"
      ],
      "execution_count": 0,
      "outputs": [
        {
          "output_type": "execute_result",
          "data": {
            "text/plain": [
              "torch.return_types.min(values=tensor([1., 2., 3.]), indices=tensor([0, 0, 0]))"
            ]
          },
          "metadata": {
            "tags": []
          },
          "execution_count": 159
        }
      ]
    },
    {
      "cell_type": "markdown",
      "metadata": {
        "colab_type": "text",
        "id": "Ys-9hnr4YKBS"
      },
      "source": [
        "**Note:** the second tensor returned by `.max()` and `.min()` contains the indices of max/min elements along this axis. E.g. in that case `a.min()` returned `(1, 2, 3)` which are the minimum elements along 0 axis (along columns) and their indices along 0 axis are `(0, 0, 0)`."
      ]
    },
    {
      "cell_type": "markdown",
      "metadata": {
        "colab_type": "text",
        "id": "kepFeTZ0YKBV"
      },
      "source": [
        "**Matrix operations**:"
      ]
    },
    {
      "cell_type": "markdown",
      "metadata": {
        "colab_type": "text",
        "id": "7RYm3mdrYKBX"
      },
      "source": [
        "* Transpose a tensor:"
      ]
    },
    {
      "cell_type": "code",
      "metadata": {
        "colab_type": "code",
        "id": "T8-1TSkeYKBY",
        "outputId": "ee3e4f57-70d6-4d23-fb6c-6b4a2474614a",
        "colab": {
          "base_uri": "https://localhost:8080/",
          "height": 68
        }
      },
      "source": [
        "a = torch.FloatTensor([[1, 2, 3], [10, 20, 30], [100, 200, 300]])\n",
        "a"
      ],
      "execution_count": 29,
      "outputs": [
        {
          "output_type": "execute_result",
          "data": {
            "text/plain": [
              "tensor([[  1.,   2.,   3.],\n",
              "        [ 10.,  20.,  30.],\n",
              "        [100., 200., 300.]])"
            ]
          },
          "metadata": {
            "tags": []
          },
          "execution_count": 29
        }
      ]
    },
    {
      "cell_type": "code",
      "metadata": {
        "colab_type": "code",
        "id": "HSAZwai7YKBa",
        "outputId": "32791e5e-2a34-4419-eecd-a6da30ff7c27",
        "colab": {
          "base_uri": "https://localhost:8080/",
          "height": 68
        }
      },
      "source": [
        "a.t()"
      ],
      "execution_count": 22,
      "outputs": [
        {
          "output_type": "execute_result",
          "data": {
            "text/plain": [
              "tensor([[  1.,  10., 100.],\n",
              "        [  2.,  20., 200.],\n",
              "        [  3.,  30., 300.]])"
            ]
          },
          "metadata": {
            "tags": []
          },
          "execution_count": 22
        }
      ]
    },
    {
      "cell_type": "markdown",
      "metadata": {
        "colab_type": "text",
        "id": "QqsPkleRYKBd"
      },
      "source": [
        "It is not not the inplace operation too:"
      ]
    },
    {
      "cell_type": "code",
      "metadata": {
        "colab_type": "code",
        "id": "NRPamd2EYKBe",
        "colab": {
          "base_uri": "https://localhost:8080/",
          "height": 68
        },
        "outputId": "a992b9ba-4ace-4ea7-a84a-fa7ee68b36cb"
      },
      "source": [
        "a"
      ],
      "execution_count": 30,
      "outputs": [
        {
          "output_type": "execute_result",
          "data": {
            "text/plain": [
              "tensor([[  1.,   2.,   3.],\n",
              "        [ 10.,  20.,  30.],\n",
              "        [100., 200., 300.]])"
            ]
          },
          "metadata": {
            "tags": []
          },
          "execution_count": 30
        }
      ]
    },
    {
      "cell_type": "markdown",
      "metadata": {
        "colab_type": "text",
        "id": "q8YhoxHPYKBh"
      },
      "source": [
        "* Dot product of vectors:"
      ]
    },
    {
      "cell_type": "code",
      "metadata": {
        "colab_type": "code",
        "id": "i1pRtl7HYKBi",
        "colab": {}
      },
      "source": [
        "a = torch.FloatTensor([1, 2, 3, 4, 5, 6])\n",
        "b = torch.FloatTensor([-1, -2, -4, -6, -8, -10])"
      ],
      "execution_count": 0,
      "outputs": []
    },
    {
      "cell_type": "code",
      "metadata": {
        "colab_type": "code",
        "id": "qcS-28dwYKBp",
        "outputId": "d4513f1e-e67c-4f01-ef3a-6b4e765111db",
        "colab": {
          "base_uri": "https://localhost:8080/",
          "height": 34
        }
      },
      "source": [
        "a.dot(b)"
      ],
      "execution_count": 25,
      "outputs": [
        {
          "output_type": "execute_result",
          "data": {
            "text/plain": [
              "tensor(-141.)"
            ]
          },
          "metadata": {
            "tags": []
          },
          "execution_count": 25
        }
      ]
    },
    {
      "cell_type": "code",
      "metadata": {
        "id": "sBiRR1V3LP-r",
        "colab_type": "code",
        "outputId": "1d9b79aa-4d06-4a38-b697-093d8e6d06ad",
        "colab": {
          "base_uri": "https://localhost:8080/",
          "height": 34
        }
      },
      "source": [
        "a.shape, b.shape"
      ],
      "execution_count": 33,
      "outputs": [
        {
          "output_type": "execute_result",
          "data": {
            "text/plain": [
              "(torch.Size([6]), torch.Size([6]))"
            ]
          },
          "metadata": {
            "tags": []
          },
          "execution_count": 33
        }
      ]
    },
    {
      "cell_type": "code",
      "metadata": {
        "colab_type": "code",
        "id": "MXyhOelQYKBs",
        "outputId": "bfe60fba-8b2c-4d87-90a3-c76b40db3986",
        "colab": {
          "base_uri": "https://localhost:8080/",
          "height": 34
        }
      },
      "source": [
        "a @ b"
      ],
      "execution_count": 35,
      "outputs": [
        {
          "output_type": "execute_result",
          "data": {
            "text/plain": [
              "tensor(-141.)"
            ]
          },
          "metadata": {
            "tags": []
          },
          "execution_count": 35
        }
      ]
    },
    {
      "cell_type": "code",
      "metadata": {
        "colab_type": "code",
        "id": "sxqg4xhoYKBt",
        "outputId": "609cf352-f4df-4994-d14d-6414d4bb7e0f",
        "colab": {
          "base_uri": "https://localhost:8080/",
          "height": 34
        }
      },
      "source": [
        "type(a)"
      ],
      "execution_count": 36,
      "outputs": [
        {
          "output_type": "execute_result",
          "data": {
            "text/plain": [
              "torch.Tensor"
            ]
          },
          "metadata": {
            "tags": []
          },
          "execution_count": 36
        }
      ]
    },
    {
      "cell_type": "code",
      "metadata": {
        "colab_type": "code",
        "id": "_v2ZjPqDYKBz",
        "outputId": "1e817f85-8013-4630-ef3a-bd7785202c3c",
        "colab": {
          "base_uri": "https://localhost:8080/",
          "height": 34
        }
      },
      "source": [
        "type(b)"
      ],
      "execution_count": 37,
      "outputs": [
        {
          "output_type": "execute_result",
          "data": {
            "text/plain": [
              "torch.Tensor"
            ]
          },
          "metadata": {
            "tags": []
          },
          "execution_count": 37
        }
      ]
    },
    {
      "cell_type": "code",
      "metadata": {
        "colab_type": "code",
        "id": "UsWB9vTuYKB0",
        "outputId": "bd0a9717-c556-4c2f-fbd4-1cca26c37db2",
        "colab": {
          "base_uri": "https://localhost:8080/",
          "height": 36
        }
      },
      "source": [
        "type(a @ b)"
      ],
      "execution_count": 0,
      "outputs": [
        {
          "output_type": "execute_result",
          "data": {
            "text/plain": [
              "torch.Tensor"
            ]
          },
          "metadata": {
            "tags": []
          },
          "execution_count": 183
        }
      ]
    },
    {
      "cell_type": "markdown",
      "metadata": {
        "colab_type": "text",
        "id": "KSrnLwkGYKB1"
      },
      "source": [
        "* Matrix product:"
      ]
    },
    {
      "cell_type": "code",
      "metadata": {
        "colab_type": "code",
        "id": "ViurnbjPYKB2",
        "colab": {}
      },
      "source": [
        "a = torch.FloatTensor([[1, 2, 3], [10, 20, 30], [100, 200, 300]])\n",
        "b = torch.FloatTensor([[-1, -2, -3], [-10, -20, -30], [100, 200, 300]])"
      ],
      "execution_count": 0,
      "outputs": []
    },
    {
      "cell_type": "code",
      "metadata": {
        "colab_type": "code",
        "id": "5TrCnfWiYKB3",
        "outputId": "134f5035-18bc-4370-f0ba-198d18102c8b",
        "colab": {
          "base_uri": "https://localhost:8080/",
          "height": 68
        }
      },
      "source": [
        "a.mm(b)"
      ],
      "execution_count": 39,
      "outputs": [
        {
          "output_type": "execute_result",
          "data": {
            "text/plain": [
              "tensor([[  279.,   558.,   837.],\n",
              "        [ 2790.,  5580.,  8370.],\n",
              "        [27900., 55800., 83700.]])"
            ]
          },
          "metadata": {
            "tags": []
          },
          "execution_count": 39
        }
      ]
    },
    {
      "cell_type": "code",
      "metadata": {
        "colab_type": "code",
        "id": "HMzIz-_MYKB4",
        "outputId": "076be197-0b61-45cf-f3a9-dce208c86679",
        "colab": {
          "base_uri": "https://localhost:8080/",
          "height": 68
        }
      },
      "source": [
        "a @ b"
      ],
      "execution_count": 40,
      "outputs": [
        {
          "output_type": "execute_result",
          "data": {
            "text/plain": [
              "tensor([[  279.,   558.,   837.],\n",
              "        [ 2790.,  5580.,  8370.],\n",
              "        [27900., 55800., 83700.]])"
            ]
          },
          "metadata": {
            "tags": []
          },
          "execution_count": 40
        }
      ]
    },
    {
      "cell_type": "markdown",
      "metadata": {
        "colab_type": "text",
        "id": "Ig2pr52xYKB5"
      },
      "source": [
        "Remain unchanged:"
      ]
    },
    {
      "cell_type": "code",
      "metadata": {
        "colab_type": "code",
        "id": "22QOePSyYKB6",
        "outputId": "65ff9c0b-64aa-45a2-a86b-1d73877a7e74",
        "colab": {
          "base_uri": "https://localhost:8080/",
          "height": 68
        }
      },
      "source": [
        "a"
      ],
      "execution_count": 41,
      "outputs": [
        {
          "output_type": "execute_result",
          "data": {
            "text/plain": [
              "tensor([[  1.,   2.,   3.],\n",
              "        [ 10.,  20.,  30.],\n",
              "        [100., 200., 300.]])"
            ]
          },
          "metadata": {
            "tags": []
          },
          "execution_count": 41
        }
      ]
    },
    {
      "cell_type": "code",
      "metadata": {
        "colab_type": "code",
        "id": "JHr6eKADYKB6",
        "outputId": "f419740a-0cf4-46bb-b219-41f47cc76c5e",
        "colab": {
          "base_uri": "https://localhost:8080/",
          "height": 68
        }
      },
      "source": [
        "b"
      ],
      "execution_count": 42,
      "outputs": [
        {
          "output_type": "execute_result",
          "data": {
            "text/plain": [
              "tensor([[ -1.,  -2.,  -3.],\n",
              "        [-10., -20., -30.],\n",
              "        [100., 200., 300.]])"
            ]
          },
          "metadata": {
            "tags": []
          },
          "execution_count": 42
        }
      ]
    },
    {
      "cell_type": "code",
      "metadata": {
        "colab_type": "code",
        "id": "vtuvt20-YKB8",
        "colab": {}
      },
      "source": [
        "a = torch.FloatTensor([[1, 2, 3], [10, 20, 30], [100, 200, 300]])\n",
        "b = torch.FloatTensor([[-1], [-10], [100]])"
      ],
      "execution_count": 0,
      "outputs": []
    },
    {
      "cell_type": "code",
      "metadata": {
        "colab_type": "code",
        "id": "fdDnu5XjYKB9",
        "outputId": "9e7e8dde-9501-493d-8836-c8e36a4a9624",
        "colab": {
          "base_uri": "https://localhost:8080/",
          "height": 34
        }
      },
      "source": [
        "print(a.shape, b.shape)"
      ],
      "execution_count": 44,
      "outputs": [
        {
          "output_type": "stream",
          "text": [
            "torch.Size([3, 3]) torch.Size([3, 1])\n"
          ],
          "name": "stdout"
        }
      ]
    },
    {
      "cell_type": "code",
      "metadata": {
        "colab_type": "code",
        "id": "oD4N4WN8YKB_",
        "outputId": "3f97ee69-6c64-43f7-ed70-59c6ee0cb29c",
        "colab": {
          "base_uri": "https://localhost:8080/",
          "height": 68
        }
      },
      "source": [
        "a @ b"
      ],
      "execution_count": 45,
      "outputs": [
        {
          "output_type": "execute_result",
          "data": {
            "text/plain": [
              "tensor([[  279.],\n",
              "        [ 2790.],\n",
              "        [27900.]])"
            ]
          },
          "metadata": {
            "tags": []
          },
          "execution_count": 45
        }
      ]
    },
    {
      "cell_type": "markdown",
      "metadata": {
        "colab_type": "text",
        "id": "va9w-BavYKCB"
      },
      "source": [
        "If we unroll the tensor `b` in an array (`torch.view(-1)`) the multiplication would be like with the column:"
      ]
    },
    {
      "cell_type": "code",
      "metadata": {
        "colab_type": "code",
        "id": "V7KsdYcBYKCC",
        "colab": {
          "base_uri": "https://localhost:8080/",
          "height": 68
        },
        "outputId": "3cfd5252-dc61-4130-c9ff-3fdaf56c7178"
      },
      "source": [
        "b"
      ],
      "execution_count": 46,
      "outputs": [
        {
          "output_type": "execute_result",
          "data": {
            "text/plain": [
              "tensor([[ -1.],\n",
              "        [-10.],\n",
              "        [100.]])"
            ]
          },
          "metadata": {
            "tags": []
          },
          "execution_count": 46
        }
      ]
    },
    {
      "cell_type": "code",
      "metadata": {
        "colab_type": "code",
        "id": "t7k6spayYKCF",
        "colab": {
          "base_uri": "https://localhost:8080/",
          "height": 34
        },
        "outputId": "a66e26ed-b44b-4849-8e85-1092394a48e7"
      },
      "source": [
        "b.view(-1)"
      ],
      "execution_count": 47,
      "outputs": [
        {
          "output_type": "execute_result",
          "data": {
            "text/plain": [
              "tensor([ -1., -10., 100.])"
            ]
          },
          "metadata": {
            "tags": []
          },
          "execution_count": 47
        }
      ]
    },
    {
      "cell_type": "code",
      "metadata": {
        "colab_type": "code",
        "id": "8u8xQ20bYKCH",
        "colab": {
          "base_uri": "https://localhost:8080/",
          "height": 34
        },
        "outputId": "5bfef233-ef49-4e4b-a9fe-e5bb565054f1"
      },
      "source": [
        "a @ b.view(-1)"
      ],
      "execution_count": 48,
      "outputs": [
        {
          "output_type": "execute_result",
          "data": {
            "text/plain": [
              "tensor([  279.,  2790., 27900.])"
            ]
          },
          "metadata": {
            "tags": []
          },
          "execution_count": 48
        }
      ]
    },
    {
      "cell_type": "code",
      "metadata": {
        "colab_type": "code",
        "id": "QvCu1sJEYKCJ",
        "colab": {
          "base_uri": "https://localhost:8080/",
          "height": 34
        },
        "outputId": "d9a21644-bf2e-47ef-f664-9b9daa77a271"
      },
      "source": [
        "a.mv(b.view(-1))"
      ],
      "execution_count": 49,
      "outputs": [
        {
          "output_type": "execute_result",
          "data": {
            "text/plain": [
              "tensor([  279.,  2790., 27900.])"
            ]
          },
          "metadata": {
            "tags": []
          },
          "execution_count": 49
        }
      ]
    },
    {
      "cell_type": "markdown",
      "metadata": {
        "colab_type": "text",
        "id": "gZitrCN6YKCL"
      },
      "source": [
        "**From NumPu to PyTorch conversion**:"
      ]
    },
    {
      "cell_type": "code",
      "metadata": {
        "colab_type": "code",
        "id": "bnLS4CGXYKCL",
        "outputId": "0a4c2cfc-62a1-4d1f-8462-c3a24c6b7f30",
        "colab": {
          "base_uri": "https://localhost:8080/",
          "height": 68
        }
      },
      "source": [
        "import numpy as np\n",
        "\n",
        "a = np.random.rand(3, 3)\n",
        "a"
      ],
      "execution_count": 50,
      "outputs": [
        {
          "output_type": "execute_result",
          "data": {
            "text/plain": [
              "array([[0.06057815, 0.59899332, 0.26431861],\n",
              "       [0.0672839 , 0.00551341, 0.27617446],\n",
              "       [0.29372839, 0.8470291 , 0.79081448]])"
            ]
          },
          "metadata": {
            "tags": []
          },
          "execution_count": 50
        }
      ]
    },
    {
      "cell_type": "code",
      "metadata": {
        "colab_type": "code",
        "id": "PXge57waYKCM",
        "outputId": "4b1b02c2-9cfb-460b-b429-ec18e93006fb",
        "colab": {
          "base_uri": "https://localhost:8080/",
          "height": 68
        }
      },
      "source": [
        "b = torch.from_numpy(a)\n",
        "b"
      ],
      "execution_count": 51,
      "outputs": [
        {
          "output_type": "execute_result",
          "data": {
            "text/plain": [
              "tensor([[0.0606, 0.5990, 0.2643],\n",
              "        [0.0673, 0.0055, 0.2762],\n",
              "        [0.2937, 0.8470, 0.7908]], dtype=torch.float64)"
            ]
          },
          "metadata": {
            "tags": []
          },
          "execution_count": 51
        }
      ]
    },
    {
      "cell_type": "markdown",
      "metadata": {
        "colab_type": "text",
        "id": "Nvcr3ymPYKCN"
      },
      "source": [
        "**NOTE!** `a` and `b` have the same data storage, so the changes in one tensor will lead to the changes in another:"
      ]
    },
    {
      "cell_type": "code",
      "metadata": {
        "colab_type": "code",
        "id": "0N_ZW6TQYKCN",
        "outputId": "66933906-9b76-4bce-fd97-b649c51ddf5a",
        "colab": {
          "base_uri": "https://localhost:8080/",
          "height": 68
        }
      },
      "source": [
        "b -= b\n",
        "b"
      ],
      "execution_count": 52,
      "outputs": [
        {
          "output_type": "execute_result",
          "data": {
            "text/plain": [
              "tensor([[0., 0., 0.],\n",
              "        [0., 0., 0.],\n",
              "        [0., 0., 0.]], dtype=torch.float64)"
            ]
          },
          "metadata": {
            "tags": []
          },
          "execution_count": 52
        }
      ]
    },
    {
      "cell_type": "code",
      "metadata": {
        "colab_type": "code",
        "id": "wzUnCKsiYKCP",
        "outputId": "0abf3b6b-750b-4c8c-d0a1-dce0630c45cf",
        "colab": {
          "base_uri": "https://localhost:8080/",
          "height": 68
        }
      },
      "source": [
        "a"
      ],
      "execution_count": 53,
      "outputs": [
        {
          "output_type": "execute_result",
          "data": {
            "text/plain": [
              "array([[0., 0., 0.],\n",
              "       [0., 0., 0.],\n",
              "       [0., 0., 0.]])"
            ]
          },
          "metadata": {
            "tags": []
          },
          "execution_count": 53
        }
      ]
    },
    {
      "cell_type": "markdown",
      "metadata": {
        "colab_type": "text",
        "id": "Al73RqKSYKCR"
      },
      "source": [
        "**From PyTorch to NumPy conversion:**"
      ]
    },
    {
      "cell_type": "code",
      "metadata": {
        "colab_type": "code",
        "id": "u5rngw4vYKCR",
        "outputId": "41f78c08-bb90-4a9d-f97d-31f82f3f1c03",
        "colab": {
          "base_uri": "https://localhost:8080/",
          "height": 136
        }
      },
      "source": [
        "a = torch.FloatTensor(2, 3, 4)\n",
        "a"
      ],
      "execution_count": 54,
      "outputs": [
        {
          "output_type": "execute_result",
          "data": {
            "text/plain": [
              "tensor([[[9.6649e-36, 0.0000e+00, 7.0065e-44, 6.7262e-44],\n",
              "         [6.3058e-44, 6.7262e-44, 7.2868e-44, 6.3058e-44],\n",
              "         [6.7262e-44, 7.8473e-44, 1.1771e-43, 6.8664e-44]],\n",
              "\n",
              "        [[7.1466e-44, 8.1275e-44, 6.8664e-44, 7.5670e-44],\n",
              "         [8.1275e-44, 7.2868e-44, 7.4269e-44, 6.4460e-44],\n",
              "         [7.8473e-44, 7.4269e-44, 7.8473e-44, 6.8664e-44]]])"
            ]
          },
          "metadata": {
            "tags": []
          },
          "execution_count": 54
        }
      ]
    },
    {
      "cell_type": "code",
      "metadata": {
        "colab_type": "code",
        "id": "yjK68Kk-YKCS",
        "outputId": "ba63cbc9-4b75-4ef1-ec42-c4f6cc1c66c0",
        "colab": {
          "base_uri": "https://localhost:8080/",
          "height": 36
        }
      },
      "source": [
        "type(a)"
      ],
      "execution_count": 0,
      "outputs": [
        {
          "output_type": "execute_result",
          "data": {
            "text/plain": [
              "torch.Tensor"
            ]
          },
          "metadata": {
            "tags": []
          },
          "execution_count": 206
        }
      ]
    },
    {
      "cell_type": "code",
      "metadata": {
        "colab_type": "code",
        "id": "viLUF7gQYKCU",
        "outputId": "0da4ad32-6b7e-473c-b718-bb364cc4e0eb",
        "colab": {
          "base_uri": "https://localhost:8080/",
          "height": 169
        }
      },
      "source": [
        "x = a.numpy()\n",
        "x"
      ],
      "execution_count": 0,
      "outputs": [
        {
          "output_type": "execute_result",
          "data": {
            "text/plain": [
              "array([[[1.3576562e+03, 0.0000000e+00, 6.8663625e-44, 7.9874012e-44],\n",
              "        [6.3058431e-44, 6.8663625e-44, 6.8663625e-44, 6.3058431e-44],\n",
              "        [6.7262326e-44, 6.8663625e-44, 1.1770907e-43, 6.7262326e-44]],\n",
              "\n",
              "       [[7.9874012e-44, 8.1275311e-44, 6.8663625e-44, 7.1466222e-44],\n",
              "        [8.1275311e-44, 7.2867520e-44, 6.7262326e-44, 6.4459729e-44],\n",
              "        [7.5670117e-44, 6.8663625e-44, 7.5670117e-44, 6.7262326e-44]]],\n",
              "      dtype=float32)"
            ]
          },
          "metadata": {
            "tags": []
          },
          "execution_count": 207
        }
      ]
    },
    {
      "cell_type": "code",
      "metadata": {
        "colab_type": "code",
        "id": "9HxgiLxKYKCV",
        "outputId": "4c0cd450-e224-479a-bfe8-42b78ce51954",
        "colab": {
          "base_uri": "https://localhost:8080/",
          "height": 36
        }
      },
      "source": [
        "x.shape"
      ],
      "execution_count": 0,
      "outputs": [
        {
          "output_type": "execute_result",
          "data": {
            "text/plain": [
              "(2, 3, 4)"
            ]
          },
          "metadata": {
            "tags": []
          },
          "execution_count": 208
        }
      ]
    },
    {
      "cell_type": "code",
      "metadata": {
        "colab_type": "code",
        "id": "SdW5bhmeYKCX",
        "outputId": "6992373a-9e55-4a48-897b-cb7267e92a5c",
        "colab": {
          "base_uri": "https://localhost:8080/",
          "height": 36
        }
      },
      "source": [
        "type(x)"
      ],
      "execution_count": 0,
      "outputs": [
        {
          "output_type": "execute_result",
          "data": {
            "text/plain": [
              "numpy.ndarray"
            ]
          },
          "metadata": {
            "tags": []
          },
          "execution_count": 209
        }
      ]
    },
    {
      "cell_type": "markdown",
      "metadata": {
        "colab_type": "text",
        "id": "7-KS81rUYKCY"
      },
      "source": [
        "Let's write the `forward_pass(X, w)` ($w_0$ is a part of the $w$) for a single neuron (activation = sigmoid) using PyTorch:"
      ]
    },
    {
      "cell_type": "code",
      "metadata": {
        "colab_type": "code",
        "id": "vkaIwpn6YKCY",
        "colab": {}
      },
      "source": [
        "def forward_pass(X, w):\n",
        "    return torch.sigmoid(X @ w)"
      ],
      "execution_count": 0,
      "outputs": []
    },
    {
      "cell_type": "code",
      "metadata": {
        "colab_type": "code",
        "id": "VyqlDItxYKCZ",
        "outputId": "822e3d47-f2d5-4e94-807e-ce7d3b452d0a",
        "colab": {
          "base_uri": "https://localhost:8080/",
          "height": 68
        }
      },
      "source": [
        "X = torch.FloatTensor([[-5, 5], [2, 3], [1, -1]])\n",
        "w = torch.FloatTensor([[-0.5], [2.5]])\n",
        "result = forward_pass(X, w)\n",
        "print('result: {}'.format(result))"
      ],
      "execution_count": 56,
      "outputs": [
        {
          "output_type": "stream",
          "text": [
            "result: tensor([[1.0000],\n",
            "        [0.9985],\n",
            "        [0.0474]])\n"
          ],
          "name": "stdout"
        }
      ]
    },
    {
      "cell_type": "markdown",
      "metadata": {
        "colab_type": "text",
        "id": "MzLVLQ2GYKCa"
      },
      "source": [
        "<h3 style=\"text-align: center;\"><a href=\"https://ru.wikipedia.org/wiki/CUDA\">CUDA</a></h3>"
      ]
    },
    {
      "cell_type": "markdown",
      "metadata": {
        "colab_type": "text",
        "id": "PrIicAAiYKCa"
      },
      "source": [
        "[CUDA documentation](https://docs.nvidia.com/cuda/)"
      ]
    },
    {
      "cell_type": "markdown",
      "metadata": {
        "colab_type": "text",
        "id": "2nDkAG6NYKCa"
      },
      "source": [
        "We can use both CPU (Central Processing Unit) and GPU (Graphical Processing Unit) to make the computations with PyTorch. We can switch between them easily, this is one of the most important things in PyTorch framework."
      ]
    },
    {
      "cell_type": "code",
      "metadata": {
        "colab_type": "code",
        "id": "_0Nsl2IoYKCa",
        "outputId": "d728cff9-35ae-4f75-ab07-41e5bfdcf510",
        "colab": {
          "base_uri": "https://localhost:8080/",
          "height": 136
        }
      },
      "source": [
        "x = torch.FloatTensor(1024, 1024).uniform_()\n",
        "x"
      ],
      "execution_count": 57,
      "outputs": [
        {
          "output_type": "execute_result",
          "data": {
            "text/plain": [
              "tensor([[0.0781, 0.5725, 0.7352,  ..., 0.0640, 0.6267, 0.0377],\n",
              "        [0.3970, 0.9628, 0.2319,  ..., 0.2601, 0.4834, 0.2451],\n",
              "        [0.2871, 0.4847, 0.7493,  ..., 0.9450, 0.8224, 0.5272],\n",
              "        ...,\n",
              "        [0.7309, 0.4642, 0.5375,  ..., 0.3176, 0.3748, 0.5991],\n",
              "        [0.6235, 0.4080, 0.9846,  ..., 0.1271, 0.1988, 0.1599],\n",
              "        [0.1661, 0.8797, 0.9468,  ..., 0.1101, 0.0473, 0.1565]])"
            ]
          },
          "metadata": {
            "tags": []
          },
          "execution_count": 57
        }
      ]
    },
    {
      "cell_type": "code",
      "metadata": {
        "colab_type": "code",
        "id": "FVr5_SAdYKCb",
        "outputId": "0531db94-1085-49e6-b2e4-0be54f30aaf6",
        "colab": {
          "base_uri": "https://localhost:8080/",
          "height": 34
        }
      },
      "source": [
        "x.is_cuda"
      ],
      "execution_count": 58,
      "outputs": [
        {
          "output_type": "execute_result",
          "data": {
            "text/plain": [
              "False"
            ]
          },
          "metadata": {
            "tags": []
          },
          "execution_count": 58
        }
      ]
    },
    {
      "cell_type": "markdown",
      "metadata": {
        "colab_type": "text",
        "id": "mAy8GGXAYKCd"
      },
      "source": [
        "Place a tensor on GPU:"
      ]
    },
    {
      "cell_type": "code",
      "metadata": {
        "colab_type": "code",
        "id": "6UGKZbfyYKCd",
        "colab": {}
      },
      "source": [
        "x = x.cuda()"
      ],
      "execution_count": 0,
      "outputs": []
    },
    {
      "cell_type": "code",
      "metadata": {
        "colab_type": "code",
        "id": "ue2SLd9nYKCd",
        "outputId": "2c0ea093-e962-4df9-e475-f020a5ae0d66",
        "colab": {
          "base_uri": "https://localhost:8080/",
          "height": 153
        }
      },
      "source": [
        "x"
      ],
      "execution_count": 62,
      "outputs": [
        {
          "output_type": "execute_result",
          "data": {
            "text/plain": [
              "tensor([[0.0781, 0.5725, 0.7352,  ..., 0.0640, 0.6267, 0.0377],\n",
              "        [0.3970, 0.9628, 0.2319,  ..., 0.2601, 0.4834, 0.2451],\n",
              "        [0.2871, 0.4847, 0.7493,  ..., 0.9450, 0.8224, 0.5272],\n",
              "        ...,\n",
              "        [0.7309, 0.4642, 0.5375,  ..., 0.3176, 0.3748, 0.5991],\n",
              "        [0.6235, 0.4080, 0.9846,  ..., 0.1271, 0.1988, 0.1599],\n",
              "        [0.1661, 0.8797, 0.9468,  ..., 0.1101, 0.0473, 0.1565]],\n",
              "       device='cuda:0')"
            ]
          },
          "metadata": {
            "tags": []
          },
          "execution_count": 62
        }
      ]
    },
    {
      "cell_type": "markdown",
      "metadata": {
        "colab_type": "text",
        "id": "dI73B59PYKCg"
      },
      "source": [
        "Let's multiply two tensors on GPU and then move the result on the CPU:"
      ]
    },
    {
      "cell_type": "code",
      "metadata": {
        "colab_type": "code",
        "id": "KS4QxJJoYKCg",
        "colab": {}
      },
      "source": [
        "a = torch.FloatTensor(10000, 10000).uniform_()\n",
        "b = torch.FloatTensor(10000, 10000).uniform_()\n",
        "c = a.cuda().mul(b.cuda()).cpu()"
      ],
      "execution_count": 0,
      "outputs": []
    },
    {
      "cell_type": "code",
      "metadata": {
        "colab_type": "code",
        "id": "1ImlgEbwYKCg",
        "outputId": "cbb81530-daf4-48a5-878c-53bb0dd8e93e",
        "colab": {
          "base_uri": "https://localhost:8080/",
          "height": 136
        }
      },
      "source": [
        "c"
      ],
      "execution_count": 64,
      "outputs": [
        {
          "output_type": "execute_result",
          "data": {
            "text/plain": [
              "tensor([[0.7804, 0.2030, 0.4382,  ..., 0.3158, 0.1756, 0.9435],\n",
              "        [0.1686, 0.1706, 0.1802,  ..., 0.1825, 0.0036, 0.1523],\n",
              "        [0.3735, 0.2679, 0.2385,  ..., 0.1170, 0.1822, 0.4420],\n",
              "        ...,\n",
              "        [0.3690, 0.2543, 0.2187,  ..., 0.0029, 0.5084, 0.1795],\n",
              "        [0.5031, 0.6095, 0.1432,  ..., 0.3409, 0.3279, 0.0885],\n",
              "        [0.0320, 0.0059, 0.4897,  ..., 0.2917, 0.0260, 0.0977]])"
            ]
          },
          "metadata": {
            "tags": []
          },
          "execution_count": 64
        }
      ]
    },
    {
      "cell_type": "code",
      "metadata": {
        "colab_type": "code",
        "id": "4DAN9MhDYKCh",
        "outputId": "3c5109b8-b15b-49d0-ed00-543cd7daec48",
        "colab": {
          "base_uri": "https://localhost:8080/",
          "height": 136
        }
      },
      "source": [
        "a"
      ],
      "execution_count": 65,
      "outputs": [
        {
          "output_type": "execute_result",
          "data": {
            "text/plain": [
              "tensor([[0.9978, 0.9453, 0.9807,  ..., 0.8419, 0.9298, 0.9847],\n",
              "        [0.3523, 0.3192, 0.5415,  ..., 0.2494, 0.0422, 0.1662],\n",
              "        [0.4087, 0.3014, 0.8197,  ..., 0.2962, 0.9708, 0.8722],\n",
              "        ...,\n",
              "        [0.9904, 0.2926, 0.7480,  ..., 0.0149, 0.9337, 0.2026],\n",
              "        [0.5905, 0.9162, 0.3188,  ..., 0.6064, 0.4617, 0.0886],\n",
              "        [0.3120, 0.2325, 0.6286,  ..., 0.8019, 0.1333, 0.8004]])"
            ]
          },
          "metadata": {
            "tags": []
          },
          "execution_count": 65
        }
      ]
    },
    {
      "cell_type": "markdown",
      "metadata": {
        "colab_type": "text",
        "id": "xWc-PiA9YKCi"
      },
      "source": [
        "Tensors placed on CPU and tensors placed on GPU are unavailable for each other:"
      ]
    },
    {
      "cell_type": "code",
      "metadata": {
        "colab_type": "code",
        "id": "1lwV1sgSYKCi",
        "colab": {}
      },
      "source": [
        "a = torch.FloatTensor(10000, 10000).uniform_().cpu()\n",
        "b = torch.FloatTensor(10000, 10000).uniform_().cuda()"
      ],
      "execution_count": 0,
      "outputs": []
    },
    {
      "cell_type": "code",
      "metadata": {
        "colab_type": "code",
        "id": "G6tYdYtTYKCj",
        "outputId": "a08b329c-0061-4e16-d942-d9580b777bf0",
        "colab": {
          "base_uri": "https://localhost:8080/",
          "height": 163
        }
      },
      "source": [
        "a + b"
      ],
      "execution_count": 67,
      "outputs": [
        {
          "output_type": "error",
          "ename": "RuntimeError",
          "evalue": "ignored",
          "traceback": [
            "\u001b[0;31m---------------------------------------------------------------------------\u001b[0m",
            "\u001b[0;31mRuntimeError\u001b[0m                              Traceback (most recent call last)",
            "\u001b[0;32m<ipython-input-67-bd58363a63fc>\u001b[0m in \u001b[0;36m<module>\u001b[0;34m()\u001b[0m\n\u001b[0;32m----> 1\u001b[0;31m \u001b[0ma\u001b[0m \u001b[0;34m+\u001b[0m \u001b[0mb\u001b[0m\u001b[0;34m\u001b[0m\u001b[0;34m\u001b[0m\u001b[0m\n\u001b[0m",
            "\u001b[0;31mRuntimeError\u001b[0m: expected device cpu but got device cuda:0"
          ]
        }
      ]
    },
    {
      "cell_type": "markdown",
      "metadata": {
        "colab_type": "text",
        "id": "QEtwaIxDYKCk"
      },
      "source": [
        "Example of working with GPU:"
      ]
    },
    {
      "cell_type": "code",
      "metadata": {
        "colab_type": "code",
        "id": "bJgVfAbUYKCk",
        "scrolled": true,
        "outputId": "f0569120-708d-46a1-e8b9-96013fd6707f",
        "colab": {
          "base_uri": "https://localhost:8080/",
          "height": 1000
        }
      },
      "source": [
        "x = torch.FloatTensor(5, 5, 5).uniform_()\n",
        "\n",
        "# check for CUDA availability (NVIDIA GPU)\n",
        "if torch.cuda.is_available():\n",
        "    # get the CUDA device name\n",
        "    device = torch.device('cuda')          # CUDA-device object\n",
        "    y = torch.ones_like(x, device=device)  # create a tensor on GPU\n",
        "    x = x.to(device)                       # or just `.to(\"cuda\")`\n",
        "    z = x + y\n",
        "    print(z)\n",
        "    # you can set the type while `.to` operation\n",
        "    print(z.to(\"cpu\", torch.double))"
      ],
      "execution_count": 68,
      "outputs": [
        {
          "output_type": "stream",
          "text": [
            "tensor([[[1.2003, 1.6206, 1.3141, 1.0276, 1.2595],\n",
            "         [1.9058, 1.0302, 1.4697, 1.9621, 1.5357],\n",
            "         [1.7864, 1.8621, 1.3202, 1.6469, 1.1613],\n",
            "         [1.4718, 1.9983, 1.6415, 1.2249, 1.7879],\n",
            "         [1.2067, 1.2669, 1.5969, 1.3680, 1.1131]],\n",
            "\n",
            "        [[1.4512, 1.0348, 1.0017, 1.4062, 1.8360],\n",
            "         [1.9115, 1.8966, 1.8218, 1.9620, 1.0328],\n",
            "         [1.2083, 1.5867, 1.8499, 1.4355, 1.1459],\n",
            "         [1.4455, 1.3648, 1.4742, 1.9479, 1.4661],\n",
            "         [1.1435, 1.8666, 1.8804, 1.4254, 1.9704]],\n",
            "\n",
            "        [[1.2822, 1.0688, 1.7649, 1.7644, 1.8707],\n",
            "         [1.3557, 1.4436, 1.5302, 1.2759, 1.8185],\n",
            "         [1.4494, 1.1988, 1.6582, 1.9920, 1.0421],\n",
            "         [1.8521, 1.0318, 1.8050, 1.1028, 1.8561],\n",
            "         [1.9930, 1.9096, 1.6224, 1.2400, 1.9799]],\n",
            "\n",
            "        [[1.2900, 1.4919, 1.3608, 1.2078, 1.7829],\n",
            "         [1.0715, 1.6372, 1.6517, 1.8453, 1.3004],\n",
            "         [1.2920, 1.5238, 1.5820, 1.2335, 1.9705],\n",
            "         [1.2034, 1.8232, 1.8792, 1.2281, 1.9675],\n",
            "         [1.5158, 1.5896, 1.2983, 1.5494, 1.8284]],\n",
            "\n",
            "        [[1.9667, 1.1283, 1.0027, 1.8368, 1.6307],\n",
            "         [1.3475, 1.0293, 1.5429, 1.7120, 1.6260],\n",
            "         [1.8907, 1.6687, 1.9171, 1.7673, 1.6521],\n",
            "         [1.0504, 1.1888, 1.5502, 1.9468, 1.6412],\n",
            "         [1.0745, 1.6359, 1.6092, 1.5316, 1.3755]]], device='cuda:0')\n",
            "tensor([[[1.2003, 1.6206, 1.3141, 1.0276, 1.2595],\n",
            "         [1.9058, 1.0302, 1.4697, 1.9621, 1.5357],\n",
            "         [1.7864, 1.8621, 1.3202, 1.6469, 1.1613],\n",
            "         [1.4718, 1.9983, 1.6415, 1.2249, 1.7879],\n",
            "         [1.2067, 1.2669, 1.5969, 1.3680, 1.1131]],\n",
            "\n",
            "        [[1.4512, 1.0348, 1.0017, 1.4062, 1.8360],\n",
            "         [1.9115, 1.8966, 1.8218, 1.9620, 1.0328],\n",
            "         [1.2083, 1.5867, 1.8499, 1.4355, 1.1459],\n",
            "         [1.4455, 1.3648, 1.4742, 1.9479, 1.4661],\n",
            "         [1.1435, 1.8666, 1.8804, 1.4254, 1.9704]],\n",
            "\n",
            "        [[1.2822, 1.0688, 1.7649, 1.7644, 1.8707],\n",
            "         [1.3557, 1.4436, 1.5302, 1.2759, 1.8185],\n",
            "         [1.4494, 1.1988, 1.6582, 1.9920, 1.0421],\n",
            "         [1.8521, 1.0318, 1.8050, 1.1028, 1.8561],\n",
            "         [1.9930, 1.9096, 1.6224, 1.2400, 1.9799]],\n",
            "\n",
            "        [[1.2900, 1.4919, 1.3608, 1.2078, 1.7829],\n",
            "         [1.0715, 1.6372, 1.6517, 1.8453, 1.3004],\n",
            "         [1.2920, 1.5238, 1.5820, 1.2335, 1.9705],\n",
            "         [1.2034, 1.8232, 1.8792, 1.2281, 1.9675],\n",
            "         [1.5158, 1.5896, 1.2983, 1.5494, 1.8284]],\n",
            "\n",
            "        [[1.9667, 1.1283, 1.0027, 1.8368, 1.6307],\n",
            "         [1.3475, 1.0293, 1.5429, 1.7120, 1.6260],\n",
            "         [1.8907, 1.6687, 1.9171, 1.7673, 1.6521],\n",
            "         [1.0504, 1.1888, 1.5502, 1.9468, 1.6412],\n",
            "         [1.0745, 1.6359, 1.6092, 1.5316, 1.3755]]], dtype=torch.float64)\n"
          ],
          "name": "stdout"
        }
      ]
    },
    {
      "cell_type": "markdown",
      "metadata": {
        "colab_type": "text",
        "id": "iFg82MJIYKCl"
      },
      "source": [
        "<h3 style=\"text-align: center;\">Autograd<b></b></h3>"
      ]
    },
    {
      "cell_type": "markdown",
      "metadata": {
        "colab_type": "text",
        "id": "udpOWYK-YKCm"
      },
      "source": [
        "The autograd package provides automatic differentiation for all operations on Tensors. It is a define-by-run framework, which means that your backprop is defined by how your code is run, and that every single iteration can be different."
      ]
    },
    {
      "cell_type": "markdown",
      "metadata": {
        "colab_type": "text",
        "id": "OAfNuSknYKCm"
      },
      "source": [
        "Importing the `Variable()` class:"
      ]
    },
    {
      "cell_type": "code",
      "metadata": {
        "colab_type": "code",
        "id": "PJdDG51vYKCm",
        "colab": {}
      },
      "source": [
        "from torch.autograd import Variable"
      ],
      "execution_count": 0,
      "outputs": []
    },
    {
      "cell_type": "markdown",
      "metadata": {
        "colab_type": "text",
        "id": "dZzZFE-0YKCm"
      },
      "source": [
        "Now we will convert `torch.Tensor()` into `torch.Variable()` and we will get just the same tensor but the possibility to calculate the gradients with respect to this tensor."
      ]
    },
    {
      "cell_type": "markdown",
      "metadata": {
        "colab_type": "text",
        "id": "VzMGFf1xYKCm"
      },
      "source": [
        "If `а` is a tensor wrapped into `Variable()`, then `a.backward()` calculates the gradients with respect to all the tensors on which the tensor `a` depends."
      ]
    },
    {
      "cell_type": "markdown",
      "metadata": {
        "colab_type": "text",
        "id": "bTVyleFWYKCn"
      },
      "source": [
        "**Note:** If you use `pytorch 0.4.0` version (or newer), then `torch.Tensor` and `torch.Variable()` were merged into `torch.Tensor`, so one doesn't need to use `Variable()` any more. (`torch.Variable()` is deprecated)."
      ]
    },
    {
      "cell_type": "markdown",
      "metadata": {
        "colab_type": "text",
        "id": "AEDz971fYKCn"
      },
      "source": [
        "The examples:"
      ]
    },
    {
      "cell_type": "code",
      "metadata": {
        "id": "lcDl5T-rDK0J",
        "colab_type": "code",
        "colab": {}
      },
      "source": [
        "from torch.autograd import Variable"
      ],
      "execution_count": 0,
      "outputs": []
    },
    {
      "cell_type": "code",
      "metadata": {
        "colab_type": "code",
        "id": "rYWqXsAjYKCn",
        "colab": {}
      },
      "source": [
        "dtype = torch.float\n",
        "device = torch.device(\"cuda:0\")\n",
        "# device = torch.device(\"cuda:0\") # Uncomment this to run on GPU\n",
        "\n",
        "# N is batch size; D_in is input dimension;\n",
        "# H is hidden dimension; D_out is output dimension.\n",
        "N, D_in, H, D_out = 64, 3, 3, 10\n",
        "\n",
        "# Create random Tensors to hold input and outputs.\n",
        "# Setting requires_grad=False indicates that we do not need to compute gradients\n",
        "# with respect to these Tensors during the backward pass.\n",
        "x = torch.randn(N, D_in, device=device, dtype=dtype)\n",
        "y = torch.randn(N, D_out, device=device, dtype=dtype)\n",
        "\n",
        "# Create random Tensors for weights.\n",
        "# Setting requires_grad=True indicates that we want to compute gradients with\n",
        "# respect to these Tensors during the backward pass.\n",
        "w1 = torch.randn(D_in, H, device=device, dtype=dtype, requires_grad=True)\n",
        "w2 = torch.randn(H, D_out, device=device, dtype=dtype, requires_grad=True)\n",
        "\n",
        "# x = torch.FloatTensor(3, 1).uniform_()\n",
        "# y = torch.FloatTensor(3, 1).uniform_()\n",
        "# w = torch.FloatTensor(3, 3).uniform_() \n",
        "# b = torch.FloatTensor(3, 1).uniform_()\n",
        "\n",
        "# x = Variable(x, requires_grad=True)\n",
        "# y = Variable(x, requires_grad=False)\n",
        "# w = Variable(w, requires_grad=True)\n",
        "# b = Variable(b, requires_grad=True)\n",
        "\n",
        "y_pred = (x @ w1).clamp(min=0).mm(w2)\n",
        "\n",
        "loss = (y_pred - y).pow(2).sum()\n",
        "# calculate the gradients\n",
        "loss.backward()"
      ],
      "execution_count": 0,
      "outputs": []
    },
    {
      "cell_type": "code",
      "metadata": {
        "id": "T3vfuF-wXS8O",
        "colab_type": "code",
        "outputId": "c7da045d-80b7-4f54-c141-732ffa745d9d",
        "colab": {
          "base_uri": "https://localhost:8080/",
          "height": 36
        }
      },
      "source": [
        "print( Variable((y_pred - y).pow(2).sum()) )"
      ],
      "execution_count": 0,
      "outputs": [
        {
          "output_type": "stream",
          "text": [
            "tensor(2681.9932, device='cuda:0')\n"
          ],
          "name": "stdout"
        }
      ]
    },
    {
      "cell_type": "code",
      "metadata": {
        "id": "jr19Gh3ZU2Ws",
        "colab_type": "code",
        "colab": {}
      },
      "source": [
        "loss.grad"
      ],
      "execution_count": 0,
      "outputs": []
    },
    {
      "cell_type": "code",
      "metadata": {
        "colab_type": "code",
        "id": "qLkn5C7JYKCp",
        "outputId": "14cb0d87-6386-47ca-c061-328f63360c09",
        "colab": {
          "base_uri": "https://localhost:8080/",
          "height": 74
        }
      },
      "source": [
        "w1.grad"
      ],
      "execution_count": 0,
      "outputs": [
        {
          "output_type": "execute_result",
          "data": {
            "text/plain": [
              "tensor([[ -57.8164,  -28.0067, -160.9712],\n",
              "        [-235.8038,   23.1953,  425.7192],\n",
              "        [ 291.8459,  134.7222,  209.5350]], device='cuda:0')"
            ]
          },
          "metadata": {
            "tags": []
          },
          "execution_count": 309
        }
      ]
    },
    {
      "cell_type": "code",
      "metadata": {
        "colab_type": "code",
        "id": "CYkrFbD5YKCq",
        "colab": {}
      },
      "source": [
        "b.grad"
      ],
      "execution_count": 0,
      "outputs": []
    },
    {
      "cell_type": "code",
      "metadata": {
        "colab_type": "code",
        "id": "ouMNnbtXYKCr",
        "colab": {}
      },
      "source": [
        "y.grad"
      ],
      "execution_count": 0,
      "outputs": []
    },
    {
      "cell_type": "code",
      "metadata": {
        "id": "MgUAuK6LbdU1",
        "colab_type": "code",
        "outputId": "caea9b3a-b39c-44a6-9740-b50df3a9389b",
        "colab": {
          "base_uri": "https://localhost:8080/",
          "height": 36
        }
      },
      "source": [
        "loss.grad"
      ],
      "execution_count": 0,
      "outputs": [
        {
          "output_type": "execute_result",
          "data": {
            "text/plain": [
              "tensor(1.)"
            ]
          },
          "metadata": {
            "tags": []
          },
          "execution_count": 282
        }
      ]
    },
    {
      "cell_type": "markdown",
      "metadata": {
        "colab_type": "text",
        "id": "DIsqxWIvYKCs"
      },
      "source": [
        "**NOTE:** the gradients are placed into the `.grad` field of tensors (variables) on which gradients were calculated. Gradients *are not placed* in the variable `loss` here!"
      ]
    },
    {
      "cell_type": "markdown",
      "metadata": {
        "colab_type": "text",
        "id": "Nf2xLNDgYKCs"
      },
      "source": [
        "Here is how to get `torch.Tensor()` from the `Variable()` (`.data` field):"
      ]
    },
    {
      "cell_type": "code",
      "metadata": {
        "colab_type": "code",
        "id": "5wU_TFedYKCt",
        "outputId": "faf34591-789b-4d41-fc00-5d5c740f1ece",
        "colab": {
          "base_uri": "https://localhost:8080/",
          "height": 74
        }
      },
      "source": [
        "x"
      ],
      "execution_count": 0,
      "outputs": [
        {
          "output_type": "execute_result",
          "data": {
            "text/plain": [
              "tensor([[0.2233],\n",
              "        [0.6834],\n",
              "        [0.3344]], requires_grad=True)"
            ]
          },
          "metadata": {
            "tags": []
          },
          "execution_count": 248
        }
      ]
    },
    {
      "cell_type": "code",
      "metadata": {
        "colab_type": "code",
        "id": "_NnBKF9kYKCt",
        "outputId": "d9a96939-b512-41e4-d7c6-cf605d9fecee",
        "colab": {
          "base_uri": "https://localhost:8080/",
          "height": 74
        }
      },
      "source": [
        "x.data"
      ],
      "execution_count": 0,
      "outputs": [
        {
          "output_type": "execute_result",
          "data": {
            "text/plain": [
              "tensor([[0.9146],\n",
              "        [0.2057],\n",
              "        [0.8572]])"
            ]
          },
          "metadata": {
            "tags": []
          },
          "execution_count": 238
        }
      ]
    },
    {
      "cell_type": "markdown",
      "metadata": {
        "colab_type": "text",
        "id": "J094WEHQYKCv"
      },
      "source": [
        "<h3 style=\"text-align: center;\">Further reading:<b></b></h3>"
      ]
    },
    {
      "cell_type": "markdown",
      "metadata": {
        "colab_type": "text",
        "id": "ftVUTfvUYKCv"
      },
      "source": [
        "*1). Official PyTorch tutorials: https://pytorch.org/tutorials/beginner/blitz/tensor_tutorial.html#sphx-glr-beginner-blitz-tensor-tutorial-py*"
      ]
    },
    {
      "cell_type": "markdown",
      "metadata": {
        "colab_type": "text",
        "id": "ovymy5F6YKCw"
      },
      "source": [
        "*2). arXiv article about the deep learning frameworks comparison: https://arxiv.org/pdf/1511.06435.pdf*"
      ]
    },
    {
      "cell_type": "markdown",
      "metadata": {
        "colab_type": "text",
        "id": "VXEEowQAYKCx"
      },
      "source": [
        "*3). Useful repo with different tutorials: https://github.com/yunjey/pytorch-tutorial*"
      ]
    },
    {
      "cell_type": "markdown",
      "metadata": {
        "colab_type": "text",
        "id": "9cROZcrYYKC0"
      },
      "source": [
        "*4). Facebook AI Research (main contributor of PyTorch) website: https://facebook.ai/developers/tools*"
      ]
    }
  ]
}