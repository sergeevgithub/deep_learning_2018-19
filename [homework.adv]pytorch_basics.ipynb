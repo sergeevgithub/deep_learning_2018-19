{
  "nbformat": 4,
  "nbformat_minor": 0,
  "metadata": {
    "hide_input": false,
    "kernelspec": {
      "display_name": "Python 3",
      "language": "python",
      "name": "python3"
    },
    "language_info": {
      "codemirror_mode": {
        "name": "ipython",
        "version": 3
      },
      "file_extension": ".py",
      "mimetype": "text/x-python",
      "name": "python",
      "nbconvert_exporter": "python",
      "pygments_lexer": "ipython3",
      "version": "3.6.8"
    },
    "varInspector": {
      "cols": {
        "lenName": 16,
        "lenType": 16,
        "lenVar": 40
      },
      "kernels_config": {
        "python": {
          "delete_cmd_postfix": "",
          "delete_cmd_prefix": "del ",
          "library": "var_list.py",
          "varRefreshCmd": "print(var_dic_list())"
        },
        "r": {
          "delete_cmd_postfix": ") ",
          "delete_cmd_prefix": "rm(",
          "library": "var_list.r",
          "varRefreshCmd": "cat(var_dic_list()) "
        }
      },
      "types_to_exclude": [
        "module",
        "function",
        "builtin_function_or_method",
        "instance",
        "_Feature"
      ],
      "window_display": false
    },
    "colab": {
      "name": "[homework]pytorch_basics.ipynb",
      "provenance": [],
      "collapsed_sections": [],
      "include_colab_link": true
    }
  },
  "cells": [
    {
      "cell_type": "markdown",
      "metadata": {
        "id": "view-in-github",
        "colab_type": "text"
      },
      "source": [
        "<a href=\"https://colab.research.google.com/github/sergeevgithub/deep_learning_2018-19/blob/master/%5Bhomework.adv%5Dpytorch_basics.ipynb\" target=\"_parent\"><img src=\"https://colab.research.google.com/assets/colab-badge.svg\" alt=\"Open In Colab\"/></a>"
      ]
    },
    {
      "cell_type": "markdown",
      "metadata": {
        "id": "wscvRoo_Y2bp",
        "colab_type": "text"
      },
      "source": [
        "<p style=\"align: center;\"><img align=center src=\"https://s8.hostingkartinok.com/uploads/images/2018/08/308b49fcfbc619d629fe4604bceb67ac.jpg\"  width=400></p>\n",
        "\n",
        "<h3 style=\"text-align: center;\"><b>Физтех-Школа Прикладной математики и информатики (ФПМИ) МФТИ</b></h3>"
      ]
    },
    {
      "cell_type": "code",
      "metadata": {
        "id": "Lg09ve27Y2br",
        "colab_type": "code",
        "colab": {}
      },
      "source": [
        "from matplotlib import pyplot as plt\n",
        "import numpy as np\n",
        "from sklearn import datasets\n",
        "from sklearn.model_selection import train_test_split\n",
        "import torch"
      ],
      "execution_count": 0,
      "outputs": []
    },
    {
      "cell_type": "markdown",
      "metadata": {
        "id": "Gbpu-GrgY2bv",
        "colab_type": "text"
      },
      "source": [
        "### 1. Нахождение сложной производной"
      ]
    },
    {
      "cell_type": "markdown",
      "metadata": {
        "id": "GZKVcvtTY2bw",
        "colab_type": "text"
      },
      "source": [
        "Найдите производную по x от функции \n",
        "$$\\sin\\left(\\tan(x)\\frac{x^2}{y} + \\ln(e^{-x^2 + 3}+x^3y)\\right)\\tan(x^2e^{x^9})$$\n",
        "\n",
        "При этом надо пользоваться встроенным в PyTorch autograd. Численное вычисление производной может не дать нужный результат."
      ]
    },
    {
      "cell_type": "code",
      "metadata": {
        "id": "ihvUiIDQY2bx",
        "colab_type": "code",
        "colab": {}
      },
      "source": [
        "def find_x_derivative(x, y):\n",
        "    x = torch.Tensor([x]).requires_grad_() #x = torch.tensor([x], dtype=float, requires_grad=True)\n",
        "    y = torch.Tensor([y]).requires_grad_() #y = torch.tensor([y], dtype=float, requires_grad=True)\n",
        "    function = torch.sin(torch.tan(x) * x**2 / y + torch.log(torch.exp(-x**2 + 3) + x**3 * y)) * torch.tan(x**2 * torch.exp(x**9))\n",
        "    function.backward()\n",
        "    return round(x.grad.item(), 3) #округляем до 3 знаков после запятой"
      ],
      "execution_count": 0,
      "outputs": []
    },
    {
      "cell_type": "code",
      "metadata": {
        "id": "qwtSIbrzHRV5",
        "colab_type": "code",
        "outputId": "fa45b5fc-0ff8-4822-af4a-dec21ad5ca1b",
        "colab": {
          "base_uri": "https://localhost:8080/",
          "height": 34
        }
      },
      "source": [
        "find_x_derivative(1, 21)"
      ],
      "execution_count": 0,
      "outputs": [
        {
          "output_type": "execute_result",
          "data": {
            "text/plain": [
              "-9.021"
            ]
          },
          "metadata": {
            "tags": []
          },
          "execution_count": 26
        }
      ]
    },
    {
      "cell_type": "code",
      "metadata": {
        "id": "kLLeww13Ej-Y",
        "colab_type": "code",
        "outputId": "049e9013-4d06-4ba5-e2e9-4f9dd517d2ff",
        "colab": {
          "base_uri": "https://localhost:8080/",
          "height": 34
        }
      },
      "source": [
        "x = torch.tensor([1], dtype=float, requires_grad=True)\n",
        "y = torch.tensor([21], dtype=float, requires_grad=True)\n",
        "tensor = torch.sin(torch.tan(x) * x**2 / y + torch.log(torch.exp(-x**2 + 3) + x**3 * y)) * torch.tan(x**2 * torch.exp(x**9))\n",
        "tensor.backward()\n",
        "print(x.grad)"
      ],
      "execution_count": 0,
      "outputs": [
        {
          "output_type": "stream",
          "text": [
            "tensor([-9.0207], dtype=torch.float64)\n"
          ],
          "name": "stdout"
        }
      ]
    },
    {
      "cell_type": "markdown",
      "metadata": {
        "collapsed": true,
        "id": "mNbn5UzGY2b0",
        "colab_type": "text"
      },
      "source": [
        "# 2. Нахождение косинусной близости\n",
        "\n",
        "Вам даны две матрицы A и B. Необходимо посчитать косинусную близость между строчками матрицы A и столбцами матрицы B. Ответ - матрица чисел, где номер строки - номер строки из матрицы А, а номер столбца - номер столбца из В, от которых бралась косинусная близость.\n",
        "\n",
        "Напомним, что косинусная близость двух векторов - косинус угла между ними. В n-мерном пространстве косинус угла между веткорами удобнее всего через скалярное произведение:\n",
        "$$\\cos(angle(x, y)) = \\frac{x \\cdot y}{\\left\\|x\\right\\| \\left\\|y\\right\\|}$$\n",
        "\n",
        "(Наша операция очень похожа на умножение матриц)"
      ]
    },
    {
      "cell_type": "code",
      "metadata": {
        "id": "9r2uiysQY2b1",
        "colab_type": "code",
        "colab": {}
      },
      "source": [
        "def get_cos_sim(A, B):\n",
        "    \"\"\"\n",
        "        A, B - torch float tensors\n",
        "    \"\"\"\n",
        "    A_length_row = torch.FloatTensor(4, 1).zero_()\n",
        "    B_length_column = torch.FloatTensor(1, 5).zero_()\n",
        "    for i in range(len(A)):\n",
        "      A_length_row[i] = ((A[i]**2).sum().sqrt())\n",
        "    for i in range(B.shape[1]):\n",
        "      B_length_column[0, i] = (B[:, i]**2).sum().sqrt()\n",
        "    res = (A.mm(B)).div(A_length_row.mm(B_length_column))\n",
        "    return res"
      ],
      "execution_count": 0,
      "outputs": []
    },
    {
      "cell_type": "code",
      "metadata": {
        "id": "61ERcxK4SQdA",
        "colab_type": "code",
        "outputId": "205ef04d-e7d0-435c-9abc-38314f9cf62a",
        "colab": {
          "base_uri": "https://localhost:8080/",
          "height": 34
        }
      },
      "source": [
        "A = torch.FloatTensor( [[1, -47, 25, -3], [10, 17, -15, 22], [-3, -7, 26, 36], [12, -27, -42, 0]])\n",
        "B = torch.FloatTensor([[-50, -13, 1, 10, 1242], [21, 48, -13, -14, -20], [20, 15, 11, 43, 11], [11, 103, 147, 27, -8]])\n",
        "answer = torch.mean(get_cos_sim(A, B))\n",
        "print(round(answer.item(), 3)) # округляем"
      ],
      "execution_count": 6,
      "outputs": [
        {
          "output_type": "stream",
          "text": [
            "0.15\n"
          ],
          "name": "stdout"
        }
      ]
    },
    {
      "cell_type": "code",
      "metadata": {
        "id": "ZZsCCgmZWyD2",
        "colab_type": "code",
        "outputId": "5491861b-dc6b-45bb-898a-5cbbdca2a6a1",
        "colab": {
          "base_uri": "https://localhost:8080/",
          "height": 170
        }
      },
      "source": [
        "A = torch.FloatTensor( [[1, -47, 25, -3], [10, 17, -15, 22], [-3, -7, 26, 36], [12, -27, -42, 0]])\n",
        "B = torch.FloatTensor([[-50, -13, 1, 10, 1242], [21, 48, -13, -14, -20], [20, 15, 11, 43, 11], [11, 103, 147, 27, -8]])\n",
        "A_length_row = torch.FloatTensor(4, 1).zero_()\n",
        "B_length_column = torch.FloatTensor(1, 5).zero_()\n",
        "for i in range(len(A)):\n",
        "  A_length_row[i] = ((A[i]**2).sum().sqrt())\n",
        "for i in range(B.shape[1]):\n",
        "  B_length_column[0, i] = (B[:, i]**2).sum().sqrt()\n",
        "res = (A.mm(B)).div(A_length_row.mm(B_length_column))\n",
        "\n",
        "round(torch.mean(res).item(), 3)\n",
        "\n",
        "print(A_length_row)\n",
        "print(B_length_column)\n",
        "\n",
        "A_length_row.mm(B_length_column)\n"
      ],
      "execution_count": 20,
      "outputs": [
        {
          "output_type": "stream",
          "text": [
            "tensor([[53.3292],\n",
            "        [33.1361],\n",
            "        [45.0555],\n",
            "        [51.3517]])\n",
            "tensor([[  58.8388,  115.3560,  147.9865,   53.6097, 1242.2355]])\n"
          ],
          "name": "stdout"
        },
        {
          "output_type": "execute_result",
          "data": {
            "text/plain": [
              "tensor([[ 3137.8223,  6151.8379,  7891.9956,  2858.9607, 66247.3828],\n",
              "        [ 1949.6862,  3822.4448,  4903.6919,  1776.4154, 41162.8164],\n",
              "        [ 2651.0112,  5197.4238,  6667.6084,  2415.4131, 55969.5703],\n",
              "        [ 3021.4722,  5923.7285,  7599.3613,  2752.9507, 63790.9375]])"
            ]
          },
          "metadata": {
            "tags": []
          },
          "execution_count": 20
        }
      ]
    },
    {
      "cell_type": "markdown",
      "metadata": {
        "id": "YX5VSfMwoy9h",
        "colab_type": "text"
      },
      "source": [
        "**Можно решить при помощи torch.norm:**"
      ]
    },
    {
      "cell_type": "code",
      "metadata": {
        "id": "E0Fqx80zoSu6",
        "colab_type": "code",
        "outputId": "fb6bf558-2fee-48e2-86df-71475c2b826d",
        "colab": {
          "base_uri": "https://localhost:8080/",
          "height": 34
        }
      },
      "source": [
        "norm_a = torch.norm(A, dim=1)\n",
        "norm_a"
      ],
      "execution_count": 17,
      "outputs": [
        {
          "output_type": "execute_result",
          "data": {
            "text/plain": [
              "tensor([53.3292, 33.1361, 45.0555, 51.3517])"
            ]
          },
          "metadata": {
            "tags": []
          },
          "execution_count": 17
        }
      ]
    },
    {
      "cell_type": "code",
      "metadata": {
        "id": "72qqwd-JorM6",
        "colab_type": "code",
        "outputId": "02d85fd8-7f94-4959-c946-fbd64f33813a",
        "colab": {
          "base_uri": "https://localhost:8080/",
          "height": 34
        }
      },
      "source": [
        "norm_b = torch.norm(B, dim=0)\n",
        "norm_b"
      ],
      "execution_count": 18,
      "outputs": [
        {
          "output_type": "execute_result",
          "data": {
            "text/plain": [
              "tensor([  58.8388,  115.3560,  147.9865,   53.6097, 1242.2355])"
            ]
          },
          "metadata": {
            "tags": []
          },
          "execution_count": 18
        }
      ]
    },
    {
      "cell_type": "code",
      "metadata": {
        "id": "5Hs-offN4cam",
        "colab_type": "code",
        "colab": {
          "base_uri": "https://localhost:8080/",
          "height": 85
        },
        "outputId": "03ffff46-a52d-4d20-cfd1-9cc5f24e27ed"
      },
      "source": [
        "torch.mm(norm_a.view(4,1), norm_b.view(1,5))"
      ],
      "execution_count": 19,
      "outputs": [
        {
          "output_type": "execute_result",
          "data": {
            "text/plain": [
              "tensor([[ 3137.8223,  6151.8379,  7891.9956,  2858.9607, 66247.3828],\n",
              "        [ 1949.6862,  3822.4448,  4903.6919,  1776.4154, 41162.8164],\n",
              "        [ 2651.0112,  5197.4238,  6667.6084,  2415.4131, 55969.5703],\n",
              "        [ 3021.4722,  5923.7285,  7599.3613,  2752.9507, 63790.9375]])"
            ]
          },
          "metadata": {
            "tags": []
          },
          "execution_count": 19
        }
      ]
    },
    {
      "cell_type": "markdown",
      "metadata": {
        "id": "BR_2JtdtY2b4",
        "colab_type": "text"
      },
      "source": [
        "# 3. Линейная регрессия\n",
        "\n",
        "Раньше мы самостоятельно считали производные, чтобы находить веса линейной регрессии с помощью градиентного спуска. Теперь нам нужно использовать для этого PyTorch и его autograd. \n",
        "\n",
        "**Важно**: на самом деле .backward не обновляет содержимое матриц с производными (some_tensor.grad), а прибавляет к ним только что посчитаные значения проивзодных. Это значит, что вызвав .backward дважды, вы получите удвоенную производную. Так как мы обновляем веса в цикле и много раз вызываем .backward, то очень быстро мы получим мусор в some_tensor.grad, если не будем его каждый раз обнулять. Таким образом, в конц итериации после использования производных обнулите значения в матрице производных для всех нужных Вам переменных. Делается это вот так \n",
        "> some\\_tensor.grad.data.zero_()"
      ]
    },
    {
      "cell_type": "code",
      "metadata": {
        "id": "XbuGEdgBY2b5",
        "colab_type": "code",
        "colab": {}
      },
      "source": [
        "class LinearRegression:\n",
        "    def get_loss(self, preds, y):\n",
        "        \"\"\"\n",
        "            @param preds: предсказания модели\n",
        "            @param y: истиные значения\n",
        "            @return mse: значение MSE на переданных данных\n",
        "        \"\"\"\n",
        "        # возьмите средний квадрат ошибки по всем выходным переменным\n",
        "        # то есть сумму квадратов ошибки надо поделить на количество_элементов * количество_таргетов\n",
        "        return #YOUR_CODE\n",
        "    \n",
        "    def init_weights(self, input_size, output_size):\n",
        "        \"\"\"\n",
        "            Инициализирует параметры модели\n",
        "            W - матрица размерности (input_size, output_size)\n",
        "            инициализируется рандомными числами из\n",
        "            uniform распределения (torch.rand())\n",
        "            b - вектор размерности (1, output_size)\n",
        "            инициализируется нулями\n",
        "        \"\"\"\n",
        "        torch.manual_seed(0) #необходимо для воспроизводимости результатов\n",
        "        self.W = torch.rand(input_size, output_size,  requires_grad=True)\n",
        "        self.b = torch.zeros(1, output_size, requires_grad=True)\n",
        "\n",
        "    def fit(self, X, y, num_epochs=1000, lr=0.001):\n",
        "        \"\"\"\n",
        "            Обучение модели линейной регрессии методом градиентного спуска\n",
        "            @param X: размерности (num_samples, input_shape)\n",
        "            @param y: размерности (num_samples, output_shape)\n",
        "            @param num_epochs: количество итераций градиентного спуска\n",
        "            @param lr: шаг градиентного спуска\n",
        "            @return metrics: вектор значений MSE на каждом шаге градиентного\n",
        "            спуска.\n",
        "        \"\"\"\n",
        "        self.init_weights(X.shape[1], y.shape[1])\n",
        "        metrics = []\n",
        "        for _ in range(num_epochs):\n",
        "            preds = self.predict(X)\n",
        "            # сделайте вычисления градиентов c помощью Pytorch и обновите веса\n",
        "            # осторожнее, оберните вычитание градиента в \n",
        "#                 with torch.no_grad():\n",
        "#                     #some code\n",
        "            # иначе во время прибавления градиента к переменной создастся очень много нод в дереве операций\n",
        "            # и ваши модели в будущем будут падать от нехватки памяти\n",
        "            #YOUR_CODE\n",
        "            #YOUR_CODE\n",
        "            #YOUR_CODE\n",
        "            #YOUR_CODE\n",
        "            metrics.append(self.get_loss(preds, y).data)\n",
        "        return metrics\n",
        "\n",
        "    def predict(self, X):\n",
        "        \"\"\"\n",
        "            Думаю, тут все понятно. Сделайте свои предсказания :)\n",
        "        \"\"\"\n",
        "        return #YOUR_CODE"
      ],
      "execution_count": 0,
      "outputs": []
    },
    {
      "cell_type": "markdown",
      "metadata": {
        "id": "QQ8GJjFKaY6r",
        "colab_type": "text"
      },
      "source": [
        "1. Сгенерируйте данные с помощью make_regression с параметрами n_targets=3, n_features=2, noise=10, random_state=42. \n",
        "2. Обучите модель линейной регрессии, оставив в fit параметры num_epochs и lr по умолчанию (обратите внимание, что перед обучением нужно привести данные к типу, использующимся в torch) \n",
        "2. Посчитайте среднее значение метрики MSE по всем итерациям цикла в fit (массив из значений MSE на каждой итерации возвращается из метода fit). Ответом, который необходимо сдать в систему, будет число, округленное до 3х знаков после запятой."
      ]
    },
    {
      "cell_type": "code",
      "metadata": {
        "id": "zOVkSg_0Y2b8",
        "colab_type": "code",
        "colab": {}
      },
      "source": [
        "X, Y = # YOUR CODE HERE\n",
        "X = # YOUR CODE HERE\n",
        "Y = # YOUR CODE HERE\n",
        "model = LinearRegression()\n",
        "mse = model.fit(X, Y)"
      ],
      "execution_count": 0,
      "outputs": []
    },
    {
      "cell_type": "code",
      "metadata": {
        "id": "oMgiJA_Va6g_",
        "colab_type": "code",
        "colab": {}
      },
      "source": [
        "print(np.mean(mse))"
      ],
      "execution_count": 0,
      "outputs": []
    },
    {
      "cell_type": "markdown",
      "metadata": {
        "id": "iJVuCWOxbACZ",
        "colab_type": "text"
      },
      "source": [
        "Здесь предлагаем протестировать метод predict удобным вам образом."
      ]
    },
    {
      "cell_type": "code",
      "metadata": {
        "id": "XF5Rw27ba-mj",
        "colab_type": "code",
        "colab": {}
      },
      "source": [
        "#YOUR CODE"
      ],
      "execution_count": 0,
      "outputs": []
    }
  ]
}